{
 "cells": [
  {
   "cell_type": "markdown",
   "id": "859af2e4",
   "metadata": {},
   "source": [
    "# Reproducible Analysis"
   ]
  },
  {
   "cell_type": "markdown",
   "id": "1a0524da",
   "metadata": {},
   "source": [
    "## Improve the Countryside Listing’s Performance in London by Text Analysis\n",
    "* The purpose of this analysis is to study the listing textual information’s impact on the different performance of the countryside listings in London. \n",
    "\n",
    "* Recommendations were given based on the analysis to improve the countryside market in London. The results and recommendations would be the support for further expenditure decisions of the chief executives in Airbnb company.\n",
    "\n",
    "* The Airbnb listing data used in this study is from the website [InsideAirbnb.com](http://insideairbnb.com/get-the-data.html), which provides publicly available Airbnb listing data, containing text descriptions about the listings. It is a snapshot of Airbnb listings in London between 2020-8-24 to 2020-8-28.\n",
    "\n",
    "* The listing data we used could be downloaded here: [2020-08-24-listings](https://github.com/jreades/i2p/raw/master/data/src/2020-08-24-listings.csv.gz)\n",
    "* The London borough data could be downloaded here: [Boroughs.gpkg](https://github.com/jreades/fsds/raw/master/data/src/Boroughs.gpkg)\n",
    "* If you are running this notebook in the file \"reproducible_analysis_casa0013\", then you don't need to download any data, all the data needed are in that file."
   ]
  },
  {
   "cell_type": "markdown",
   "id": "924cf3f5",
   "metadata": {},
   "source": [
    "### Import modules and create some functions\n",
    "Firstly, we need to import the necessary libaries:"
   ]
  },
  {
   "cell_type": "code",
   "execution_count": 1,
   "id": "1ac6f3e8",
   "metadata": {},
   "outputs": [],
   "source": [
    "import os\n",
    "import pandas as pd\n",
    "import geopandas as gpd\n",
    "import re\n",
    "import string\n",
    "import unicodedata\n",
    "from bs4 import BeautifulSoup\n",
    "from wordcloud import WordCloud, STOPWORDS\n",
    "\n",
    "import matplotlib.pyplot as plt\n",
    "import json\n",
    "import numpy as np\n",
    "import seaborn as sns\n",
    "import matplotlib.cm as cm"
   ]
  },
  {
   "cell_type": "markdown",
   "id": "2a8c5d93",
   "metadata": {},
   "source": [
    "Here are some libraries for NLP analysis"
   ]
  },
  {
   "cell_type": "code",
   "execution_count": 2,
   "id": "66fe6a90",
   "metadata": {},
   "outputs": [],
   "source": [
    "from sklearn.preprocessing import OneHotEncoder \n",
    "from sklearn.feature_extraction.text import TfidfVectorizer\n",
    "from sklearn.feature_extraction.text import CountVectorizer\n",
    "from sklearn.decomposition import LatentDirichletAllocation\n",
    "\n",
    "import nltk\n",
    "import spacy\n",
    "#nltk.download('wordnet')\n",
    "#nltk.download('averaged_perceptron_tagger')\n",
    "from nltk.corpus import wordnet as wn\n",
    "from nltk.stem.wordnet import WordNetLemmatizer\n",
    "\n",
    "from nltk.corpus import stopwords\n",
    "stopword_list = set(stopwords.words('english'))\n",
    "\n",
    "from nltk.tokenize import word_tokenize, sent_tokenize\n",
    "from nltk.tokenize.toktok import ToktokTokenizer\n",
    "#from nltk.tokenize.stanford import StanfordTokenizer\n",
    "\n",
    "from nltk.stem.porter import PorterStemmer\n",
    "from nltk.stem.snowball import SnowballStemmer\n",
    "\n",
    "from nltk import ngrams, FreqDist\n",
    "\n",
    "lemmatizer = WordNetLemmatizer()\n",
    "tokenizer = ToktokTokenizer()"
   ]
  },
  {
   "cell_type": "markdown",
   "id": "3e104f9b",
   "metadata": {},
   "source": [
    "This next is a function that allows us to output Markdown instead of plain text:"
   ]
  },
  {
   "cell_type": "code",
   "execution_count": 3,
   "id": "fb50ff53",
   "metadata": {},
   "outputs": [],
   "source": [
    "from IPython.display import display_markdown\n",
    "\n",
    "def as_markdown(head='', body='Some body text'):\n",
    "    if head != '':\n",
    "        display_markdown(f\"##### {head}\\n\\n>{body}\\n\", raw=True)\n",
    "    else:\n",
    "        display_markdown(f\">{body}\\n\", raw=True)"
   ]
  },
  {
   "cell_type": "markdown",
   "id": "11e51309",
   "metadata": {},
   "source": [
    "This next is a [function created by Tianyi Wang in Kaggle](https://www.kaggle.com/tianyiwang/become-a-data-driven-airbnb-host-part-1/notebook) to show the the shape of a dataframe, the percentage of features without missing values and the columns with high missing rates:"
   ]
  },
  {
   "cell_type": "code",
   "execution_count": 4,
   "id": "847118c9",
   "metadata": {},
   "outputs": [],
   "source": [
    "def data_first_look(df):\n",
    "    '''\n",
    "    print out the shape of a dataframe, the percentage of features without missing values and the columns with high missing rates\n",
    "    '''\n",
    "    print(f\"Data has in total {df.shape[0]} rows and {df.shape[1]} features.\")\n",
    "    missing_rates = pd.DataFrame(df.isna().mean())\\\n",
    "                    .rename({0:'perc_missing'}, axis=1)\\\n",
    "                    .sort_values('perc_missing', ascending=False)\n",
    "    print(\"{}% of the features don't have missing values\"\\\n",
    "          .format(round(sum(missing_rates['perc_missing']==0)*100/len(missing_rates), 2)))\n",
    "    missing_rates[missing_rates['perc_missing']>0].plot.bar(title=\"Missing rates\")"
   ]
  },
  {
   "cell_type": "markdown",
   "id": "e90c622e",
   "metadata": {},
   "source": [
    "Import the Custom Module for document nomalisation"
   ]
  },
  {
   "cell_type": "code",
   "execution_count": 5,
   "id": "08343227",
   "metadata": {},
   "outputs": [
    {
     "name": "stderr",
     "output_type": "stream",
     "text": [
      "[nltk_data] Downloading package wordnet to\n",
      "[nltk_data]     C:\\Users\\user\\AppData\\Roaming\\nltk_data...\n",
      "[nltk_data]   Package wordnet is already up-to-date!\n",
      "[nltk_data] Downloading package averaged_perceptron_tagger to\n",
      "[nltk_data]     C:\\Users\\user\\AppData\\Roaming\\nltk_data...\n",
      "[nltk_data]   Package averaged_perceptron_tagger is already up-to-\n",
      "[nltk_data]       date!\n"
     ]
    }
   ],
   "source": [
    "from textual import *"
   ]
  },
  {
   "cell_type": "code",
   "execution_count": 6,
   "id": "95a8f58c",
   "metadata": {},
   "outputs": [
    {
     "data": {
      "text/markdown": [
       "#### Normalised\n",
       "\n",
       ">apple man banana banana men\n"
      ]
     },
     "metadata": {},
     "output_type": "display_data"
    }
   ],
   "source": [
    "# test\n",
    "as_markdown('Normalised', normalise_document('ab,1,apple,man,banana,bananas,men'))"
   ]
  },
  {
   "cell_type": "markdown",
   "id": "19e29d6f",
   "metadata": {},
   "source": [
    "### read in data"
   ]
  },
  {
   "cell_type": "markdown",
   "id": "6d861a4f",
   "metadata": {},
   "source": [
    "Read in the Airbnb listing data of London"
   ]
  },
  {
   "cell_type": "code",
   "execution_count": 7,
   "id": "28a1112c",
   "metadata": {},
   "outputs": [
    {
     "name": "stderr",
     "output_type": "stream",
     "text": [
      "F:\\anaconda3\\lib\\site-packages\\IPython\\core\\interactiveshell.py:3437: DtypeWarning: Columns (2,22,36,41,45,46,55) have mixed types.Specify dtype option on import or set low_memory=False.\n",
      "  exec(code_obj, self.user_global_ns, self.user_ns)\n"
     ]
    }
   ],
   "source": [
    "url = '2020-08-24-listings.csv' \n",
    "\n",
    "raw_data = pd.read_csv(url)"
   ]
  },
  {
   "cell_type": "markdown",
   "id": "71a9110e",
   "metadata": {},
   "source": [
    "Check the information of this data"
   ]
  },
  {
   "cell_type": "code",
   "execution_count": 8,
   "id": "2f15f24b",
   "metadata": {},
   "outputs": [
    {
     "name": "stdout",
     "output_type": "stream",
     "text": [
      "<class 'pandas.core.frame.DataFrame'>\n",
      "RangeIndex: 74188 entries, 0 to 74187\n",
      "Data columns (total 74 columns):\n",
      " #   Column                                        Non-Null Count  Dtype  \n",
      "---  ------                                        --------------  -----  \n",
      " 0   id                                            74186 non-null  float64\n",
      " 1   listing_url                                   74187 non-null  object \n",
      " 2   scrape_id                                     74187 non-null  object \n",
      " 3   last_scraped                                  74187 non-null  object \n",
      " 4   name                                          74167 non-null  object \n",
      " 5   description                                   71329 non-null  object \n",
      " 6   neighborhood_overview                         47208 non-null  object \n",
      " 7   picture_url                                   74188 non-null  object \n",
      " 8   host_id                                       74188 non-null  float64\n",
      " 9   host_url                                      74188 non-null  object \n",
      " 10  host_name                                     74179 non-null  object \n",
      " 11  host_since                                    74179 non-null  object \n",
      " 12  host_location                                 74006 non-null  object \n",
      " 13  host_about                                    42494 non-null  object \n",
      " 14  host_response_time                            37781 non-null  object \n",
      " 15  host_response_rate                            37779 non-null  object \n",
      " 16  host_acceptance_rate                          51597 non-null  object \n",
      " 17  host_is_superhost                             74177 non-null  object \n",
      " 18  host_thumbnail_url                            74177 non-null  object \n",
      " 19  host_picture_url                              74177 non-null  object \n",
      " 20  host_neighbourhood                            56560 non-null  object \n",
      " 21  host_listings_count                           74175 non-null  float64\n",
      " 22  host_total_listings_count                     74177 non-null  object \n",
      " 23  host_verifications                            74186 non-null  object \n",
      " 24  host_has_profile_pic                          74177 non-null  object \n",
      " 25  host_identity_verified                        74177 non-null  object \n",
      " 26  neighbourhood                                 47207 non-null  object \n",
      " 27  neighbourhood_cleansed                        74186 non-null  object \n",
      " 28  neighbourhood_group_cleansed                  2 non-null      float64\n",
      " 29  latitude                                      74186 non-null  float64\n",
      " 30  longitude                                     74186 non-null  float64\n",
      " 31  property_type                                 74186 non-null  object \n",
      " 32  room_type                                     74186 non-null  object \n",
      " 33  accommodates                                  74186 non-null  float64\n",
      " 34  bathrooms                                     2 non-null      float64\n",
      " 35  bathrooms_text                                74029 non-null  object \n",
      " 36  bedrooms                                      69594 non-null  object \n",
      " 37  beds                                          73199 non-null  float64\n",
      " 38  amenities                                     74186 non-null  object \n",
      " 39  price                                         74186 non-null  object \n",
      " 40  minimum_nights                                74186 non-null  float64\n",
      " 41  maximum_nights                                74186 non-null  object \n",
      " 42  minimum_minimum_nights                        74186 non-null  float64\n",
      " 43  maximum_minimum_nights                        74186 non-null  float64\n",
      " 44  minimum_maximum_nights                        74186 non-null  float64\n",
      " 45  maximum_maximum_nights                        74186 non-null  object \n",
      " 46  minimum_nights_avg_ntm                        74186 non-null  object \n",
      " 47  maximum_nights_avg_ntm                        74186 non-null  float64\n",
      " 48  calendar_updated                              2 non-null      float64\n",
      " 49  has_availability                              74186 non-null  object \n",
      " 50  availability_30                               74186 non-null  float64\n",
      " 51  availability_60                               74186 non-null  float64\n",
      " 52  availability_90                               74186 non-null  float64\n",
      " 53  availability_365                              74186 non-null  float64\n",
      " 54  calendar_last_scraped                         74184 non-null  object \n",
      " 55  number_of_reviews                             74186 non-null  object \n",
      " 56  number_of_reviews_ltm                         74186 non-null  float64\n",
      " 57  number_of_reviews_l30d                        74186 non-null  float64\n",
      " 58  first_review                                  53903 non-null  object \n",
      " 59  last_review                                   53903 non-null  object \n",
      " 60  review_scores_rating                          52285 non-null  float64\n",
      " 61  review_scores_accuracy                        52233 non-null  float64\n",
      " 62  review_scores_cleanliness                     52242 non-null  float64\n",
      " 63  review_scores_checkin                         52194 non-null  float64\n",
      " 64  review_scores_communication                   52234 non-null  float64\n",
      " 65  review_scores_location                        52197 non-null  float64\n",
      " 66  review_scores_value                           52196 non-null  float64\n",
      " 67  license                                       0 non-null      float64\n",
      " 68  instant_bookable                              74184 non-null  object \n",
      " 69  calculated_host_listings_count                74184 non-null  float64\n",
      " 70  calculated_host_listings_count_entire_homes   74184 non-null  float64\n",
      " 71  calculated_host_listings_count_private_rooms  74184 non-null  float64\n",
      " 72  calculated_host_listings_count_shared_rooms   74184 non-null  float64\n",
      " 73  reviews_per_month                             53901 non-null  float64\n",
      "dtypes: float64(34), object(40)\n",
      "memory usage: 41.9+ MB\n"
     ]
    }
   ],
   "source": [
    "raw_data.info()"
   ]
  },
  {
   "cell_type": "markdown",
   "id": "ade44b3c",
   "metadata": {},
   "source": [
    "The raw data contains too many colomns, we could select the columns we need:"
   ]
  },
  {
   "cell_type": "code",
   "execution_count": 9,
   "id": "b7e43f46",
   "metadata": {},
   "outputs": [],
   "source": [
    "# select the columns needed\n",
    "\n",
    "cols = ['id','listing_url','name','price','description','host_id','neighborhood_overview','host_about','host_listings_count',\n",
    "        'latitude','longitude','property_type','room_type','accommodates','review_scores_rating','amenities']\n",
    "\n",
    "\n",
    "df = pd.read_csv(url, usecols=cols)"
   ]
  },
  {
   "cell_type": "code",
   "execution_count": 10,
   "id": "3fe97640",
   "metadata": {},
   "outputs": [
    {
     "name": "stdout",
     "output_type": "stream",
     "text": [
      "<class 'pandas.core.frame.DataFrame'>\n",
      "RangeIndex: 74188 entries, 0 to 74187\n",
      "Data columns (total 16 columns):\n",
      " #   Column                 Non-Null Count  Dtype  \n",
      "---  ------                 --------------  -----  \n",
      " 0   id                     74186 non-null  float64\n",
      " 1   listing_url            74187 non-null  object \n",
      " 2   name                   74167 non-null  object \n",
      " 3   description            71329 non-null  object \n",
      " 4   neighborhood_overview  47208 non-null  object \n",
      " 5   host_id                74188 non-null  float64\n",
      " 6   host_about             42494 non-null  object \n",
      " 7   host_listings_count    74175 non-null  float64\n",
      " 8   latitude               74186 non-null  float64\n",
      " 9   longitude              74186 non-null  float64\n",
      " 10  property_type          74186 non-null  object \n",
      " 11  room_type              74186 non-null  object \n",
      " 12  accommodates           74186 non-null  float64\n",
      " 13  amenities              74186 non-null  object \n",
      " 14  price                  74186 non-null  object \n",
      " 15  review_scores_rating   52285 non-null  float64\n",
      "dtypes: float64(7), object(9)\n",
      "memory usage: 9.1+ MB\n"
     ]
    }
   ],
   "source": [
    "df.info()"
   ]
  },
  {
   "cell_type": "markdown",
   "id": "68952f05",
   "metadata": {},
   "source": [
    "Change the format of the \"price\" column:"
   ]
  },
  {
   "cell_type": "code",
   "execution_count": 11,
   "id": "4a04ec3b",
   "metadata": {},
   "outputs": [
    {
     "name": "stderr",
     "output_type": "stream",
     "text": [
      "<ipython-input-11-d23651318a4b>:2: FutureWarning: The default value of regex will change from True to False in a future version. In addition, single character regular expressions will *not* be treated as literal strings when regex=True.\n",
      "  df.price.str.replace('$','')\n",
      "<ipython-input-11-d23651318a4b>:3: FutureWarning: The default value of regex will change from True to False in a future version. In addition, single character regular expressions will *not* be treated as literal strings when regex=True.\n",
      "  df['price'] = df.price.str.replace('$','').str.replace(',','').astype(float)\n"
     ]
    }
   ],
   "source": [
    "# change the price format\n",
    "df.price.str.replace('$','')\n",
    "df['price'] = df.price.str.replace('$','').str.replace(',','').astype(float)"
   ]
  },
  {
   "cell_type": "markdown",
   "id": "9f0e2c17",
   "metadata": {},
   "source": [
    "Filter the rows out of the of London by the latitude and longitude:"
   ]
  },
  {
   "cell_type": "code",
   "execution_count": 12,
   "id": "8fef8131",
   "metadata": {},
   "outputs": [
    {
     "name": "stdout",
     "output_type": "stream",
     "text": [
      "(74184, 16)\n"
     ]
    }
   ],
   "source": [
    "# filter rows out of the London area\n",
    "df.drop(df[df.latitude.isna()|df.longitude.isna()].index, axis=0, inplace=True)\n",
    "df.drop(df[((df.latitude < 40)|(df.longitude > 1))].index, axis=0, inplace=True)\n",
    "print(df.shape)"
   ]
  },
  {
   "cell_type": "code",
   "execution_count": 13,
   "id": "17cfcc06",
   "metadata": {},
   "outputs": [
    {
     "data": {
      "text/plain": [
       "room_type\n",
       "Entire home/apt    164.472148\n",
       "Hotel room         129.579549\n",
       "Private room        61.696273\n",
       "Shared room         56.309595\n",
       "Name: price, dtype: float64"
      ]
     },
     "execution_count": 13,
     "metadata": {},
     "output_type": "execute_result"
    }
   ],
   "source": [
    "df.groupby(['room_type'])['price'].mean()"
   ]
  },
  {
   "cell_type": "code",
   "execution_count": null,
   "id": "afba6a28",
   "metadata": {},
   "outputs": [],
   "source": []
  },
  {
   "cell_type": "code",
   "execution_count": null,
   "id": "b1f6120c",
   "metadata": {},
   "outputs": [],
   "source": []
  },
  {
   "cell_type": "code",
   "execution_count": null,
   "id": "67a8f7cb",
   "metadata": {},
   "outputs": [],
   "source": []
  },
  {
   "cell_type": "markdown",
   "id": "aa1ed3d4",
   "metadata": {},
   "source": [
    "After the basic data preparing, use the data_first_look function to see the missing values of the dataframe:\n"
   ]
  },
  {
   "cell_type": "markdown",
   "id": "3663db8f",
   "metadata": {},
   "source": [
    "It can be seen that \"host_about\" has over 40% missing values, \"description\" column is important to this study, it doesn't have too many NAs which is good. "
   ]
  },
  {
   "cell_type": "code",
   "execution_count": 14,
   "id": "4ab5bbb4",
   "metadata": {},
   "outputs": [
    {
     "name": "stdout",
     "output_type": "stream",
     "text": [
      "Data has in total 74184 rows and 16 features.\n",
      "62.5% of the features don't have missing values\n"
     ]
    },
    {
     "data": {
      "image/png": "[encoded data removed]",
      "text/plain": [
       "<Figure size 576x288 with 1 Axes>"
      ]
     },
     "metadata": {
      "needs_background": "light"
     },
     "output_type": "display_data"
    }
   ],
   "source": [
    "# use data_first_look function to see the missing values of the dataframe\n",
    "\n",
    "plt.rcParams['figure.figsize'] = (8,4)\n",
    "data_first_look(df)"
   ]
  },
  {
   "cell_type": "markdown",
   "id": "b5f3cac2",
   "metadata": {},
   "source": [
    "The detailed information of the missing value of different columns"
   ]
  },
  {
   "cell_type": "code",
   "execution_count": 15,
   "id": "1808aa92",
   "metadata": {},
   "outputs": [
    {
     "data": {
      "text/plain": [
       "host_about               31694\n",
       "neighborhood_overview    26980\n",
       "review_scores_rating     21901\n",
       "description               2859\n",
       "name                        21\n",
       "host_listings_count          9\n",
       "id                           0\n",
       "listing_url                  0\n",
       "host_id                      0\n",
       "latitude                     0\n",
       "longitude                    0\n",
       "property_type                0\n",
       "room_type                    0\n",
       "accommodates                 0\n",
       "amenities                    0\n",
       "price                        0\n",
       "dtype: int64"
      ]
     },
     "execution_count": 15,
     "metadata": {},
     "output_type": "execute_result"
    }
   ],
   "source": [
    "df.isna().sum().sort_values(ascending=False)"
   ]
  },
  {
   "cell_type": "markdown",
   "id": "11e07dbb",
   "metadata": {},
   "source": [
    "There are 2859 missing values in the \"description\" column from the cell above"
   ]
  },
  {
   "cell_type": "code",
   "execution_count": null,
   "id": "01750ac4",
   "metadata": {},
   "outputs": [],
   "source": []
  },
  {
   "cell_type": "markdown",
   "id": "1d537338",
   "metadata": {},
   "source": [
    "### Convert to GeoPandas\n",
    "\n",
    "Read in the Boroughs GeoPackage: "
   ]
  },
  {
   "cell_type": "code",
   "execution_count": 16,
   "id": "c7e9f6a2",
   "metadata": {},
   "outputs": [
    {
     "data": {
      "text/plain": [
       "<AxesSubplot:>"
      ]
     },
     "execution_count": 16,
     "metadata": {},
     "output_type": "execute_result"
    },
    {
     "data": {
      "image/png": "[encoded data removed]",
      "text/plain": [
       "<Figure size 576x288 with 1 Axes>"
      ]
     },
     "metadata": {
      "needs_background": "light"
     },
     "output_type": "display_data"
    }
   ],
   "source": [
    "boros = gpd.read_file('Boroughs.gpkg')\n",
    "boros.plot()"
   ]
  },
  {
   "cell_type": "markdown",
   "id": "4dcebd4c",
   "metadata": {},
   "source": [
    "Convert df to gdf from DataFrame to GeoDataFrame by the longitude and latitude:"
   ]
  },
  {
   "cell_type": "code",
   "execution_count": 17,
   "id": "1d43190a",
   "metadata": {},
   "outputs": [],
   "source": [
    "# convert df to gdf\n",
    "gdf = gpd.GeoDataFrame(df, geometry=gpd.points_from_xy(df.longitude, df.latitude, crs='epsg:4326'))\n",
    "gdf = gdf.to_crs('epsg:27700')"
   ]
  },
  {
   "cell_type": "code",
   "execution_count": 18,
   "id": "bc2987d5",
   "metadata": {},
   "outputs": [
    {
     "data": {
      "text/plain": [
       "(74184, 17)"
      ]
     },
     "execution_count": 18,
     "metadata": {},
     "output_type": "execute_result"
    }
   ],
   "source": [
    "gdf.shape"
   ]
  },
  {
   "cell_type": "markdown",
   "id": "85762959",
   "metadata": {},
   "source": [
    "Combine gdf and borough:"
   ]
  },
  {
   "cell_type": "code",
   "execution_count": 19,
   "id": "bde2d31e",
   "metadata": {},
   "outputs": [
    {
     "name": "stderr",
     "output_type": "stream",
     "text": [
      "F:\\anaconda3\\lib\\site-packages\\IPython\\core\\interactiveshell.py:3357: FutureWarning: The `op` parameter is deprecated and will be removed in a future release. Please use the `predicate` parameter instead.\n",
      "  if (await self.run_code(code, result,  async_=asy)):\n"
     ]
    }
   ],
   "source": [
    "# combine gdf and borough\n",
    "gdf_bo = gpd.sjoin(gdf, boros, op='within', how='left')\n"
   ]
  },
  {
   "cell_type": "code",
   "execution_count": 20,
   "id": "8718e260",
   "metadata": {},
   "outputs": [
    {
     "name": "stdout",
     "output_type": "stream",
     "text": [
      "<class 'geopandas.geodataframe.GeoDataFrame'>\n",
      "Int64Index: 74184 entries, 0 to 74187\n",
      "Data columns (total 23 columns):\n",
      " #   Column                 Non-Null Count  Dtype   \n",
      "---  ------                 --------------  -----   \n",
      " 0   id                     74184 non-null  float64 \n",
      " 1   listing_url            74184 non-null  object  \n",
      " 2   name                   74163 non-null  object  \n",
      " 3   description            71325 non-null  object  \n",
      " 4   neighborhood_overview  47204 non-null  object  \n",
      " 5   host_id                74184 non-null  float64 \n",
      " 6   host_about             42490 non-null  object  \n",
      " 7   host_listings_count    74175 non-null  float64 \n",
      " 8   latitude               74184 non-null  float64 \n",
      " 9   longitude              74184 non-null  float64 \n",
      " 10  property_type          74184 non-null  object  \n",
      " 11  room_type              74184 non-null  object  \n",
      " 12  accommodates           74184 non-null  float64 \n",
      " 13  amenities              74184 non-null  object  \n",
      " 14  price                  74184 non-null  float64 \n",
      " 15  review_scores_rating   52283 non-null  float64 \n",
      " 16  geometry               74184 non-null  geometry\n",
      " 17  index_right            74169 non-null  float64 \n",
      " 18  NAME                   74169 non-null  object  \n",
      " 19  GSS_CODE               74169 non-null  object  \n",
      " 20  HECTARES               74169 non-null  float64 \n",
      " 21  NONLD_AREA             74169 non-null  float64 \n",
      " 22  ONS_INNER              74169 non-null  object  \n",
      "dtypes: float64(11), geometry(1), object(11)\n",
      "memory usage: 13.6+ MB\n"
     ]
    }
   ],
   "source": [
    "gdf_bo.info()"
   ]
  },
  {
   "cell_type": "code",
   "execution_count": null,
   "id": "41652c2d",
   "metadata": {},
   "outputs": [],
   "source": []
  },
  {
   "cell_type": "markdown",
   "id": "f23b8a2b",
   "metadata": {},
   "source": [
    "### Previewing Textual Data"
   ]
  },
  {
   "cell_type": "markdown",
   "id": "f6180e23",
   "metadata": {},
   "source": [
    "Set the tsxt display length:"
   ]
  },
  {
   "cell_type": "code",
   "execution_count": 21,
   "id": "719b32bb",
   "metadata": {},
   "outputs": [
    {
     "name": "stdout",
     "output_type": "stream",
     "text": [
      "50\n"
     ]
    }
   ],
   "source": [
    "print(pd.options.display.max_colwidth) \n",
    "pd.options.display.max_colwidth=200 "
   ]
  },
  {
   "cell_type": "markdown",
   "id": "ce301cbb",
   "metadata": {},
   "source": [
    "### Using Regular Expressions to identify the countryside listings\n"
   ]
  },
  {
   "cell_type": "markdown",
   "id": "095e9eba",
   "metadata": {},
   "source": [
    "First, check the missing value in \"description\" column and \"amenities\" column"
   ]
  },
  {
   "cell_type": "code",
   "execution_count": 22,
   "id": "c4971b38",
   "metadata": {},
   "outputs": [
    {
     "data": {
      "text/plain": [
       "(2859, 23)"
      ]
     },
     "execution_count": 22,
     "metadata": {},
     "output_type": "execute_result"
    }
   ],
   "source": [
    "gdf_bo[gdf_bo.description.isna()].shape"
   ]
  },
  {
   "cell_type": "code",
   "execution_count": 23,
   "id": "1316b278",
   "metadata": {},
   "outputs": [
    {
     "data": {
      "text/plain": [
       "(0, 23)"
      ]
     },
     "execution_count": 23,
     "metadata": {},
     "output_type": "execute_result"
    }
   ],
   "source": [
    "gdf_bo[gdf_bo.amenities.isna()].shape"
   ]
  },
  {
   "cell_type": "markdown",
   "id": "902a260f",
   "metadata": {},
   "source": [
    " \"description\" column has 2859 missing values and \"amenities\" column has no missing values"
   ]
  },
  {
   "cell_type": "markdown",
   "id": "60c670f7",
   "metadata": {},
   "source": [
    "Remove all the rows without \"description\" value"
   ]
  },
  {
   "cell_type": "code",
   "execution_count": 24,
   "id": "44665854",
   "metadata": {},
   "outputs": [
    {
     "name": "stdout",
     "output_type": "stream",
     "text": [
      "(71325, 23)\n"
     ]
    }
   ],
   "source": [
    "# Remove the rows with description missing\n",
    "gdf_bo.drop(index=(gdf_bo[gdf_bo.description.isna()].index), inplace=True)\n",
    "print(gdf_bo.shape)"
   ]
  },
  {
   "cell_type": "markdown",
   "id": "982d8f12",
   "metadata": {},
   "source": [
    "Here use \"countryside\", \"rural\" and \"village\" in the regular expression to identify the countryside listings:"
   ]
  },
  {
   "cell_type": "code",
   "execution_count": 25,
   "id": "676bf637",
   "metadata": {},
   "outputs": [],
   "source": [
    "countryside = gdf_bo[gdf_bo.description.str.contains(r'(?:countryside|rural|village)', regex=True, flags=re.IGNORECASE)].copy()"
   ]
  },
  {
   "cell_type": "code",
   "execution_count": 26,
   "id": "30c218dd",
   "metadata": {
    "scrolled": true
   },
   "outputs": [
    {
     "data": {
      "text/plain": [
       "(2458, 23)"
      ]
     },
     "execution_count": 26,
     "metadata": {},
     "output_type": "execute_result"
    }
   ],
   "source": [
    "countryside.shape"
   ]
  },
  {
   "cell_type": "markdown",
   "id": "d24f4592",
   "metadata": {},
   "source": [
    "Here we plot the countryside listings"
   ]
  },
  {
   "cell_type": "code",
   "execution_count": 27,
   "id": "cd5d138a",
   "metadata": {},
   "outputs": [
    {
     "data": {
      "image/png": "[encoded data removed]",
      "text/plain": [
       "<Figure size 864x720 with 1 Axes>"
      ]
     },
     "metadata": {
      "needs_background": "light"
     },
     "output_type": "display_data"
    }
   ],
   "source": [
    "ax = boros.plot(figsize=(12,10), edgecolor='black', facecolor='none', linewidth=1, alpha=0.75)\n",
    "countryside.plot(markersize=8,ax=ax,label='Countryside listings',legend=True)\n",
    "ax.set_title('Countryside listings distribution', fontdict={'fontsize':'20', 'fontweight':'3'})  #provide a title\n",
    "\n",
    "ax.axis('off')\n",
    "plt.legend()\n",
    "ax.legend(fontsize = 13)\n",
    "plt.show()"
   ]
  },
  {
   "cell_type": "markdown",
   "id": "0003d155",
   "metadata": {},
   "source": [
    "From the plot above we can see that countryside listings are basically distributed around the centre of London."
   ]
  },
  {
   "cell_type": "markdown",
   "id": "c58752bf",
   "metadata": {},
   "source": [
    "##### Select the Good listings and the Normal listings"
   ]
  },
  {
   "cell_type": "markdown",
   "id": "aab32489",
   "metadata": {},
   "source": [
    "\"review_scores_rating\" is an index which indicates the customer's satisfaction for the listing. In this study, we use this to represent the performance of countryside listings."
   ]
  },
  {
   "cell_type": "markdown",
   "id": "f73caeee",
   "metadata": {},
   "source": [
    "First, we will check the distribution of the review score rating of all the countryside listings:"
   ]
  },
  {
   "cell_type": "code",
   "execution_count": 28,
   "id": "425376c1",
   "metadata": {},
   "outputs": [
    {
     "data": {
      "text/plain": [
       "<matplotlib.lines.Line2D at 0x20a12cee970>"
      ]
     },
     "execution_count": 28,
     "metadata": {},
     "output_type": "execute_result"
    },
    {
     "data": {
      "image/png": "[encoded data removed]",
      "text/plain": [
       "<Figure size 864x360 with 1 Axes>"
      ]
     },
     "metadata": {
      "needs_background": "light"
     },
     "output_type": "display_data"
    }
   ],
   "source": [
    "fig, ax = plt.subplots(1,1, figsize = (12,5))\n",
    "ax.hist(x = countryside.review_scores_rating, bins = 20)\n",
    "ax.set_title(\"Review_scores distribution\", fontsize = 20, pad = 30)\n",
    "ax.set_xlabel(\"review_scores\", fontsize = 20, labelpad = 30)\n",
    "ax.set_ylabel(\"Number of listings\", fontsize = 20, labelpad = 30)\n",
    "ax.axvline(countryside.review_scores_rating.median(), color='r', linestyle='dashed', linewidth=2)\n"
   ]
  },
  {
   "cell_type": "code",
   "execution_count": 29,
   "id": "1cd59016",
   "metadata": {},
   "outputs": [
    {
     "data": {
      "text/plain": [
       "97.0"
      ]
     },
     "execution_count": 29,
     "metadata": {},
     "output_type": "execute_result"
    }
   ],
   "source": [
    "# median value of the review score\n",
    "countryside.review_scores_rating.median()"
   ]
  },
  {
   "cell_type": "markdown",
   "id": "e60fe477",
   "metadata": {},
   "source": [
    "From the histogram plot above we can see that the distribution of the review score is highly skewed and the median value of it is 97.0 (the read dashed line on the plot above)."
   ]
  },
  {
   "cell_type": "markdown",
   "id": "0bce0079",
   "metadata": {},
   "source": [
    "To find reason why some listings perform well (get higher review scores) in the countryside, listings were divided into two sub-groups, one is the “good listings” with the review score is 100, another is the “normal listings” with the score below 95."
   ]
  },
  {
   "cell_type": "code",
   "execution_count": 30,
   "id": "2dd34530",
   "metadata": {},
   "outputs": [
    {
     "data": {
      "text/plain": [
       "(646, 23)"
      ]
     },
     "execution_count": 30,
     "metadata": {},
     "output_type": "execute_result"
    }
   ],
   "source": [
    "# filter the Good listings\n",
    "countryside_good = countryside[countryside.review_scores_rating ==100]\n",
    "countryside_good.shape"
   ]
  },
  {
   "cell_type": "code",
   "execution_count": 31,
   "id": "8155930e",
   "metadata": {},
   "outputs": [
    {
     "data": {
      "text/plain": [
       "(569, 23)"
      ]
     },
     "execution_count": 31,
     "metadata": {},
     "output_type": "execute_result"
    }
   ],
   "source": [
    "# filter the Normal listings\n",
    "countryside_normal = countryside[countryside.review_scores_rating<95]\n",
    "countryside_normal.shape"
   ]
  },
  {
   "cell_type": "code",
   "execution_count": 32,
   "id": "6004a040",
   "metadata": {},
   "outputs": [
    {
     "data": {
      "text/plain": [
       "(549, 23)"
      ]
     },
     "execution_count": 32,
     "metadata": {},
     "output_type": "execute_result"
    }
   ],
   "source": [
    "# filter the listings without review score\n",
    "countryside_na = countryside[countryside.review_scores_rating.isna()]\n",
    "countryside_na.shape"
   ]
  },
  {
   "cell_type": "markdown",
   "id": "2a187fa3",
   "metadata": {},
   "source": [
    "It is noted that there are some listings without the review score, this may be because those listings haven't gotten enough review, therefore, we would not consider those listings in this study.  "
   ]
  },
  {
   "cell_type": "markdown",
   "id": "7f9f7a3a",
   "metadata": {},
   "source": [
    "Here we plot the Good listings and the Normal listings to see if there are any geographical clusters:"
   ]
  },
  {
   "cell_type": "code",
   "execution_count": 33,
   "id": "0767da8c",
   "metadata": {},
   "outputs": [
    {
     "data": {
      "image/png": "[encoded data removed]",
      "text/plain": [
       "<Figure size 864x720 with 1 Axes>"
      ]
     },
     "metadata": {
      "needs_background": "light"
     },
     "output_type": "display_data"
    }
   ],
   "source": [
    "# plot the Good listings and the Normal listings \n",
    "\n",
    "\n",
    "ax = boros.plot(figsize=(12,10), edgecolor='black', facecolor='none', linewidth=1, alpha=0.75)\n",
    "\n",
    "countryside_good.plot(color=\"green\",markersize=8,ax=ax, legend=True,label=\"Good listings\",)\n",
    "countryside_normal.plot( color=\"red\",markersize=8,ax=ax, legend=True,label=\"Normal listings\")\n",
    "\n",
    "ax.set_title('Distribution of good and normal listings', fontdict={'fontsize':'20', 'fontweight':'3'})  #provide a title\n",
    "\n",
    "ax.axis('off')\n",
    "plt.legend()\n",
    "ax.legend(fontsize = 13)\n",
    "plt.show()"
   ]
  },
  {
   "cell_type": "markdown",
   "id": "7397fa18",
   "metadata": {},
   "source": [
    "From the plot above, we can see the Good listings and Normal listings mix with each other. If some areas have better natural resource or attractions then the listings there would be more likely to be “good” listings. Therefore, It could be inferred that the performance of countryside listings may not be highly influenced by the spatial factors."
   ]
  },
  {
   "cell_type": "code",
   "execution_count": null,
   "id": "6fae9f1f",
   "metadata": {},
   "outputs": [],
   "source": []
  },
  {
   "cell_type": "markdown",
   "id": "440d42bf",
   "metadata": {},
   "source": [
    "### LDA topic model analysis for the listing description"
   ]
  },
  {
   "cell_type": "markdown",
   "id": "60f435b4",
   "metadata": {},
   "source": [
    "#### Create corpus "
   ]
  },
  {
   "cell_type": "markdown",
   "id": "103e8117",
   "metadata": {},
   "source": [
    "First, creat the corpus for good listings and normal listings:"
   ]
  },
  {
   "cell_type": "code",
   "execution_count": 34,
   "id": "737d087c",
   "metadata": {},
   "outputs": [
    {
     "name": "stderr",
     "output_type": "stream",
     "text": [
      "F:\\anaconda3\\lib\\site-packages\\geopandas\\geodataframe.py:1351: SettingWithCopyWarning: \n",
      "A value is trying to be set on a copy of a slice from a DataFrame.\n",
      "Try using .loc[row_indexer,col_indexer] = value instead\n",
      "\n",
      "See the caveats in the documentation: https://pandas.pydata.org/pandas-docs/stable/user_guide/indexing.html#returning-a-view-versus-a-copy\n",
      "  super().__setitem__(key, value)\n"
     ]
    }
   ],
   "source": [
    "# Create the corpus of good listings\n",
    "countryside_good['description_norm'] = countryside_good.description.apply(normalise_document)"
   ]
  },
  {
   "cell_type": "code",
   "execution_count": 35,
   "id": "05f246d6",
   "metadata": {},
   "outputs": [
    {
     "data": {
      "text/plain": [
       "(646,)"
      ]
     },
     "execution_count": 35,
     "metadata": {},
     "output_type": "execute_result"
    }
   ],
   "source": [
    "corpus_countryside_good = countryside_good.description_norm.fillna(' ').values\n",
    "corpus_countryside_good.shape"
   ]
  },
  {
   "cell_type": "code",
   "execution_count": 36,
   "id": "9a73ce15",
   "metadata": {},
   "outputs": [],
   "source": [
    "# Create the corpus of normal listings\n",
    "countryside_normal['description_norm'] = countryside_normal.description.apply(normalise_document)"
   ]
  },
  {
   "cell_type": "code",
   "execution_count": 37,
   "id": "7e3591e6",
   "metadata": {},
   "outputs": [
    {
     "data": {
      "text/plain": [
       "(569,)"
      ]
     },
     "execution_count": 37,
     "metadata": {},
     "output_type": "execute_result"
    }
   ],
   "source": [
    "corpus_countryside_normal = countryside_normal.description_norm.fillna(' ').values\n",
    "corpus_countryside_normal.shape"
   ]
  },
  {
   "cell_type": "markdown",
   "id": "6fa6eb35",
   "metadata": {},
   "source": [
    "Check the result of the corpus:"
   ]
  },
  {
   "cell_type": "code",
   "execution_count": 38,
   "id": "f0da4896",
   "metadata": {},
   "outputs": [
    {
     "name": "stdout",
     "output_type": "stream",
     "text": [
      "['comfortable modern home friendly host offer handful hint need space hello two bedroom apartment leytonstone east london nicely decorate apartment mod con high ceiling give spacious feel clean original wooden floor two bedroom apartment locate nice quiet residential road parking free ideally locate a12 short 5mins walk local tescos superstore pub restaurant give village feel area walk distance 7mins leytonstone tube station 5mins walk epping forest hollow pond boat available hire 2mins walk tescos tube journey leytonstone central line 3mins stratford westfield shopping centre olympic villiage 25mins london west end oxford bond 2mins leyton fitness first gym'\n",
      " 'recently refurbish sunny one bedroom first floor apartment space family friendly accommodation london minute drive gatwick airport mile south london ideally situate offer tourist easy access central london major site greenwich kent countryside also accessible large garden lawn patio area complete furniture child variety outdoor game equipment swing apartment convert provide comfortable accommodation lovely decor furnish high standard internet access apartment bed linen towel provide apartment centrally heat lounge nicely decorate large sunny room wide bay window furnish comfortable sofa din table chair kitchen fully equip oven hob fridge freezer compartment']\n"
     ]
    }
   ],
   "source": [
    "print(corpus_countryside_good[0:2])"
   ]
  },
  {
   "cell_type": "code",
   "execution_count": 39,
   "id": "0ffbe502",
   "metadata": {},
   "outputs": [
    {
     "name": "stdout",
     "output_type": "stream",
     "text": [
      "['double bed 1st floor extra single bed room move large room floor use fridge room summer balcony coffee tea close high road great transport local cafe restaurant access town river thames summer event bustlling village feel area minimum night stay booking name person guest 3rd party booking key 100 charge lose replace lock copy space min tube zone chiswick high road cafes bar restaurant mile kew garden double room bathroom with double bed single fold bed sleep include fold out bed nice apartment bed 1st floor room brass bed double size next bathroom flat floor reception kitchen balcony 100m high road wit'\n",
      " 'munster village colourful collection shop restaurant plus amnities end quiet safe street thai italian french english restaurant choose plus antique shop browse easy access centre space newly decorate double single room bed quiet safe neighbourhood non smoke house share bathroom smart freeview netflix room bill wireless internet include price weekly cleaning change linen house well situate 211 295 bus route close directly popular tourist spot central london fulham broadway parson green station minute walk short bus ride away street totally safe quiet private 100 yard walk munster village end street munster village colourful collection shop restaurant']\n"
     ]
    }
   ],
   "source": [
    "print(corpus_countryside_normal[0:2])"
   ]
  },
  {
   "cell_type": "markdown",
   "id": "723908d5",
   "metadata": {},
   "source": [
    "#### LDA topic model"
   ]
  },
  {
   "cell_type": "markdown",
   "id": "94c16bad",
   "metadata": {},
   "source": [
    "##### LDA for Good listings:"
   ]
  },
  {
   "cell_type": "code",
   "execution_count": 40,
   "id": "e7c75e47",
   "metadata": {},
   "outputs": [],
   "source": [
    "# make the doc-term matrix\n",
    "vectorizer_good = CountVectorizer(max_df=0.8, min_df=2,stop_words='english')\n",
    "vectorizer_good.fit(corpus_countryside_good) \n",
    "countryside_good_mtrix = vectorizer_good.transform(corpus_countryside_good) # tcorpus for transformed corpus"
   ]
  },
  {
   "cell_type": "code",
   "execution_count": 41,
   "id": "5beb48d2",
   "metadata": {},
   "outputs": [
    {
     "data": {
      "text/plain": [
       "(646, 2045)"
      ]
     },
     "execution_count": 41,
     "metadata": {},
     "output_type": "execute_result"
    }
   ],
   "source": [
    "countryside_good_mtrix.shape"
   ]
  },
  {
   "cell_type": "code",
   "execution_count": 42,
   "id": "a16a1079",
   "metadata": {},
   "outputs": [
    {
     "data": {
      "text/plain": [
       "LatentDirichletAllocation(n_components=15, random_state=42)"
      ]
     },
     "execution_count": 42,
     "metadata": {},
     "output_type": "execute_result"
    }
   ],
   "source": [
    "# LDA, choose components=15\n",
    "countryside_good_LDA = LatentDirichletAllocation(n_components=15, random_state=42) # Might want to experiment with n_components too\n",
    "countryside_good_LDA.fit(countryside_good_mtrix)"
   ]
  },
  {
   "cell_type": "code",
   "execution_count": 43,
   "id": "20b150b0",
   "metadata": {
    "scrolled": false
   },
   "outputs": [
    {
     "data": {
      "text/markdown": [
       "#### Top 15 words for topic #0\n",
       "\n",
       ">rain, large, light, guest, fully, feel, road, finish, high, shower, bedroom, kitchen, walk, bathroom, apartment\n"
      ]
     },
     "metadata": {},
     "output_type": "display_data"
    },
    {
     "data": {
      "text/markdown": [
       "#### Top 15 words for topic #1\n",
       "\n",
       ">shop, street, brixton, end, tube, flat, min, clapham, away, park, house, restaurant, minute, london, walk\n"
      ]
     },
     "metadata": {},
     "output_type": "display_data"
    },
    {
     "data": {
      "text/markdown": [
       "#### Top 15 words for topic #2\n",
       "\n",
       ">hill, quiet, open, park, locate, apartment, area, garden, large, private, kitchen, london, room, bedroom, floor\n"
      ]
     },
     "metadata": {},
     "output_type": "display_data"
    },
    {
     "data": {
      "text/markdown": [
       "#### Top 15 words for topic #3\n",
       "\n",
       ">thing, like, note, home, london, kitchen, street, bedroom, guest, room, flat, garden, area, access, house\n"
      ]
     },
     "metadata": {},
     "output_type": "display_data"
    },
    {
     "data": {
      "text/markdown": [
       "#### Top 15 words for topic #4\n",
       "\n",
       ">restaurant, brixton, lovely, guest, park, home, central, apartment, bedroom, enjoy, station, min, walk, minute, london\n"
      ]
     },
     "metadata": {},
     "output_type": "display_data"
    },
    {
     "data": {
      "text/markdown": [
       "#### Top 15 words for topic #5\n",
       "\n",
       ">bus, station, area, house, home, line, minute, park, family, central, min, access, greenwich, walk, london\n"
      ]
     },
     "metadata": {},
     "output_type": "display_data"
    },
    {
     "data": {
      "text/markdown": [
       "#### Top 15 words for topic #6\n",
       "\n",
       ">lovely, beautiful, boy, private, access, family, house, bedroom, double, garden, home, bathroom, flat, kitchen, room\n"
      ]
     },
     "metadata": {},
     "output_type": "display_data"
    },
    {
     "data": {
      "text/markdown": [
       "#### Top 15 words for topic #7\n",
       "\n",
       ">bedroom, area, bed, park, access, room, heath, highgate, walk, london, garden, place, min, house, hampstead\n"
      ]
     },
     "metadata": {},
     "output_type": "display_data"
    },
    {
     "data": {
      "text/markdown": [
       "#### Top 15 words for topic #8\n",
       "\n",
       ">living, spacious, sofa, modern, large, walk, bathroom, double, room, apartment, london, flat, kitchen, bedroom, bed\n"
      ]
     },
     "metadata": {},
     "output_type": "display_data"
    },
    {
     "data": {
      "text/markdown": [
       "#### Top 15 words for topic #9\n",
       "\n",
       ">city, restaurant, property, canary, wharf, camden, apartment, bedroom, private, tube, park, station, minute, walk, london\n"
      ]
     },
     "metadata": {},
     "output_type": "display_data"
    },
    {
     "data": {
      "text/markdown": [
       "#### Top 15 words for topic #10\n",
       "\n",
       ">road, room, restaurant, away, shoreditch, minute, heart, canal, min, walk, bedroom, london, victoria, flat, park\n"
      ]
     },
     "metadata": {},
     "output_type": "display_data"
    },
    {
     "data": {
      "text/markdown": [
       "#### Top 15 words for topic #11\n",
       "\n",
       ">available, garden, locate, court, minute, bedroom, area, park, station, beautiful, walk, min, southfields, tennis, wimbledon\n"
      ]
     },
     "metadata": {},
     "output_type": "display_data"
    },
    {
     "data": {
      "text/markdown": [
       "#### Top 15 words for topic #12\n",
       "\n",
       ">bus, flat, station, away, guest, train, room, min, central, access, house, walk, london, wimbledon, minute\n"
      ]
     },
     "metadata": {},
     "output_type": "display_data"
    },
    {
     "data": {
      "text/markdown": [
       "#### Top 15 words for topic #13\n",
       "\n",
       ">park, minute, large, house, flat, bathroom, area, double, guest, garden, london, access, kitchen, bedroom, room\n"
      ]
     },
     "metadata": {},
     "output_type": "display_data"
    },
    {
     "data": {
      "text/markdown": [
       "#### Top 15 words for topic #14\n",
       "\n",
       ">bed, kitchen, home, large, locate, family, open, modern, bedroom, road, station, garden, london, room, house\n"
      ]
     },
     "metadata": {},
     "output_type": "display_data"
    }
   ],
   "source": [
    "# Check the 15 topics for good listings\n",
    "for i,topic in enumerate(countryside_good_LDA.components_):\n",
    "    as_markdown(f'Top 15 words for topic #{i}', ', '.join([vectorizer_good.get_feature_names()[i] for i in topic.argsort()[-15:]]))"
   ]
  },
  {
   "cell_type": "markdown",
   "id": "c12925f5",
   "metadata": {},
   "source": [
    "From the LDA topic model above, we get the 15 topics of good listings' description, we will do the same for normal listings later. Detailed interpretation of the topics can be found in the Executive Briefing."
   ]
  },
  {
   "cell_type": "markdown",
   "id": "75980b31",
   "metadata": {},
   "source": [
    "Here we add the topic back to the good listings dataframe:"
   ]
  },
  {
   "cell_type": "code",
   "execution_count": 44,
   "id": "3e7761fd",
   "metadata": {},
   "outputs": [],
   "source": [
    "# add the topic back to the data\n",
    "topic_values_good = countryside_good_LDA.transform(countryside_good_mtrix)"
   ]
  },
  {
   "cell_type": "code",
   "execution_count": 45,
   "id": "a96f4d49",
   "metadata": {},
   "outputs": [
    {
     "data": {
      "text/plain": [
       "(646, 15)"
      ]
     },
     "execution_count": 45,
     "metadata": {},
     "output_type": "execute_result"
    }
   ],
   "source": [
    "topic_values_good.shape"
   ]
  },
  {
   "cell_type": "markdown",
   "id": "508edadf",
   "metadata": {},
   "source": [
    "Choose the topic with the highest proportion of one listing as its Topic.:"
   ]
  },
  {
   "cell_type": "code",
   "execution_count": 46,
   "id": "e075e743",
   "metadata": {},
   "outputs": [],
   "source": [
    "# Choose the topic with the highest proportion of one listing as its Topic.  \n",
    "countryside_good['Topic'] = topic_values_good.argmax(axis=1)"
   ]
  },
  {
   "cell_type": "markdown",
   "id": "7a1464b9",
   "metadata": {},
   "source": [
    "Calculate the amount of each topic:"
   ]
  },
  {
   "cell_type": "code",
   "execution_count": 47,
   "id": "312f401a",
   "metadata": {},
   "outputs": [
    {
     "data": {
      "text/plain": [
       "Topic\n",
       "13    169\n",
       "8     110\n",
       "2      61\n",
       "12     56\n",
       "5      51\n",
       "7      33\n",
       "3      32\n",
       "4      32\n",
       "1      23\n",
       "10     22\n",
       "14     17\n",
       "9      14\n",
       "0      11\n",
       "11      9\n",
       "6       6\n",
       "dtype: int64"
      ]
     },
     "execution_count": 47,
     "metadata": {},
     "output_type": "execute_result"
    }
   ],
   "source": [
    "countryside_good.groupby(['Topic']).size().sort_values(ascending=False)"
   ]
  },
  {
   "cell_type": "markdown",
   "id": "def040de",
   "metadata": {},
   "source": [
    "From the 15 topics' keywords, We can see that some topics have many key words in common, therefore, it is reasonable to allocate them into several catrgories so that we can compare them easily and effectively. "
   ]
  },
  {
   "cell_type": "markdown",
   "id": "05003820",
   "metadata": {},
   "source": [
    "The topics were allocated into THREE categories: \"Indoor features\",\"Convenience\",\"Surrounding characteristics\". The detailed information about the 3 topic categories could be found in the Executive Briefing."
   ]
  },
  {
   "cell_type": "markdown",
   "id": "03d14405",
   "metadata": {},
   "source": [
    "Here we are creating a new column 'Topic Category' to store the topic category of each listing:"
   ]
  },
  {
   "cell_type": "code",
   "execution_count": 48,
   "id": "49011b3a",
   "metadata": {},
   "outputs": [],
   "source": [
    "# each of 15 good listings' topics from LDA topic model were allocated in to one of the three categories, \n",
    "# detailed information is inExecutive Briefing :\n",
    "\n",
    "indoor_features_topic_good = [0,2,3,6,8,13,14]\n",
    "convenience_topic_good  = [1,4,9,12] \n",
    "surrounding_characteristics_good = [5,7,10,11]"
   ]
  },
  {
   "cell_type": "code",
   "execution_count": 49,
   "id": "fd2222bb",
   "metadata": {
    "scrolled": true
   },
   "outputs": [
    {
     "name": "stderr",
     "output_type": "stream",
     "text": [
      "F:\\anaconda3\\lib\\site-packages\\pandas\\core\\indexing.py:1817: SettingWithCopyWarning: \n",
      "A value is trying to be set on a copy of a slice from a DataFrame.\n",
      "Try using .loc[row_indexer,col_indexer] = value instead\n",
      "\n",
      "See the caveats in the documentation: https://pandas.pydata.org/pandas-docs/stable/user_guide/indexing.html#returning-a-view-versus-a-copy\n",
      "  self._setitem_single_column(loc, value, pi)\n"
     ]
    }
   ],
   "source": [
    "for i in indoor_features_topic_good:\n",
    "    countryside_good.loc[countryside_good['Topic'] == i, 'Topic Category'] = 1\n",
    "\n",
    "for j in convenience_topic_good:\n",
    "    countryside_good.loc[countryside_good['Topic'] == j, 'Topic Category'] = 2\n",
    "\n",
    "for m in surrounding_characteristics_good:\n",
    "    countryside_good.loc[countryside_good['Topic'] == m, 'Topic Category'] = 3"
   ]
  },
  {
   "cell_type": "markdown",
   "id": "789386f1",
   "metadata": {},
   "source": [
    "Check the category of good listings using groupby:"
   ]
  },
  {
   "cell_type": "code",
   "execution_count": 50,
   "id": "8a5e0e9b",
   "metadata": {},
   "outputs": [],
   "source": [
    "topic_category_good = countryside_good.groupby(['Topic Category']).size().sort_values(ascending=False)"
   ]
  },
  {
   "cell_type": "code",
   "execution_count": 51,
   "id": "67c7ac48",
   "metadata": {},
   "outputs": [],
   "source": [
    "topic_category_good = pd.DataFrame(topic_category_good)"
   ]
  },
  {
   "cell_type": "code",
   "execution_count": 52,
   "id": "693838f3",
   "metadata": {},
   "outputs": [],
   "source": [
    "# check the percentage of each category\n",
    "topic_category_good['percentage_good'] = topic_category_good/646"
   ]
  },
  {
   "cell_type": "code",
   "execution_count": 53,
   "id": "6a49f936",
   "metadata": {},
   "outputs": [
    {
     "data": {
      "text/html": [
       "<div>\n",
       "<style scoped>\n",
       "    .dataframe tbody tr th:only-of-type {\n",
       "        vertical-align: middle;\n",
       "    }\n",
       "\n",
       "    .dataframe tbody tr th {\n",
       "        vertical-align: top;\n",
       "    }\n",
       "\n",
       "    .dataframe thead th {\n",
       "        text-align: right;\n",
       "    }\n",
       "</style>\n",
       "<table border=\"1\" class=\"dataframe\">\n",
       "  <thead>\n",
       "    <tr style=\"text-align: right;\">\n",
       "      <th></th>\n",
       "      <th>0</th>\n",
       "      <th>percentage_good</th>\n",
       "    </tr>\n",
       "    <tr>\n",
       "      <th>Topic Category</th>\n",
       "      <th></th>\n",
       "      <th></th>\n",
       "    </tr>\n",
       "  </thead>\n",
       "  <tbody>\n",
       "    <tr>\n",
       "      <th>1.0</th>\n",
       "      <td>406</td>\n",
       "      <td>0.628483</td>\n",
       "    </tr>\n",
       "    <tr>\n",
       "      <th>2.0</th>\n",
       "      <td>125</td>\n",
       "      <td>0.193498</td>\n",
       "    </tr>\n",
       "    <tr>\n",
       "      <th>3.0</th>\n",
       "      <td>115</td>\n",
       "      <td>0.178019</td>\n",
       "    </tr>\n",
       "  </tbody>\n",
       "</table>\n",
       "</div>"
      ],
      "text/plain": [
       "                  0  percentage_good\n",
       "Topic Category                      \n",
       "1.0             406         0.628483\n",
       "2.0             125         0.193498\n",
       "3.0             115         0.178019"
      ]
     },
     "execution_count": 53,
     "metadata": {},
     "output_type": "execute_result"
    }
   ],
   "source": [
    "topic_category_good"
   ]
  },
  {
   "cell_type": "markdown",
   "id": "907138f4",
   "metadata": {},
   "source": [
    "From the DataFrame above we can see that, in Good listings category 1(indoor_features) accounts for 62% of all the listings which is dominant. Later we will do the same for the Normal listings and we can see the difference."
   ]
  },
  {
   "cell_type": "code",
   "execution_count": null,
   "id": "9b3c813f",
   "metadata": {},
   "outputs": [],
   "source": []
  },
  {
   "cell_type": "markdown",
   "id": "c82c40e6",
   "metadata": {},
   "source": [
    "##### LDA for Normal listings:"
   ]
  },
  {
   "cell_type": "code",
   "execution_count": 54,
   "id": "d740dd8b",
   "metadata": {},
   "outputs": [],
   "source": [
    "# make the doc-term matrix\n",
    "vectorizer_normal = CountVectorizer(max_df=0.8, min_df=2,stop_words='english')\n",
    "vectorizer_normal.fit(corpus_countryside_normal) \n",
    "countryside_normal_mtrix = vectorizer_normal.transform(corpus_countryside_normal) # tcorpus for transformed corpus"
   ]
  },
  {
   "cell_type": "code",
   "execution_count": 55,
   "id": "51f887ee",
   "metadata": {},
   "outputs": [
    {
     "data": {
      "text/plain": [
       "(569, 1934)"
      ]
     },
     "execution_count": 55,
     "metadata": {},
     "output_type": "execute_result"
    }
   ],
   "source": [
    "countryside_normal_mtrix.shape"
   ]
  },
  {
   "cell_type": "code",
   "execution_count": 56,
   "id": "ec20872a",
   "metadata": {},
   "outputs": [
    {
     "data": {
      "text/plain": [
       "LatentDirichletAllocation(n_components=15, random_state=42)"
      ]
     },
     "execution_count": 56,
     "metadata": {},
     "output_type": "execute_result"
    }
   ],
   "source": [
    "# LDA, choose components=15, which is the same as the good listings\n",
    "countryside_normal_LDA = LatentDirichletAllocation(n_components=15, random_state=42) # Might want to experiment with n_components too\n",
    "countryside_normal_LDA.fit(countryside_normal_mtrix)"
   ]
  },
  {
   "cell_type": "code",
   "execution_count": 57,
   "id": "5a5731a6",
   "metadata": {
    "scrolled": true
   },
   "outputs": [
    {
     "data": {
      "text/markdown": [
       "#### Top 15 words for topic #0\n",
       "\n",
       ">shower, large, apartment, area, double, bed, floor, flat, bedroom, london, bathroom, kitchen, guest, access, room\n"
      ]
     },
     "metadata": {},
     "output_type": "display_data"
    },
    {
     "data": {
      "text/markdown": [
       "#### Top 15 words for topic #1\n",
       "\n",
       ">flat, square, double, pimlico, dulwich, london, westminster, guest, station, walk, city, house, victoria, bedroom, room\n"
      ]
     },
     "metadata": {},
     "output_type": "display_data"
    },
    {
     "data": {
      "text/markdown": [
       "#### Top 15 words for topic #2\n",
       "\n",
       ">restaurant, park, station, include, central, room, flat, bus, away, walk, guest, access, minute, brixton, london\n"
      ]
     },
     "metadata": {},
     "output_type": "display_data"
    },
    {
     "data": {
      "text/markdown": [
       "#### Top 15 words for topic #3\n",
       "\n",
       ">primrose, perfect, hampstead, welcome, away, belsize, hill, access, flat, camden, studio, central, park, apartment, london\n"
      ]
     },
     "metadata": {},
     "output_type": "display_data"
    },
    {
     "data": {
      "text/markdown": [
       "#### Top 15 words for topic #4\n",
       "\n",
       ">bathroom, chelsea, short, room, inside, walk, heart, park, area, building, guest, kitchen, london, studio, apartment\n"
      ]
     },
     "metadata": {},
     "output_type": "display_data"
    },
    {
     "data": {
      "text/markdown": [
       "#### Top 15 words for topic #5\n",
       "\n",
       ">london, guest, access, close, park, solo, yol, adventurer, family, good, love, couple, traveller, business, place\n"
      ]
     },
     "metadata": {},
     "output_type": "display_data"
    },
    {
     "data": {
      "text/markdown": [
       "#### Top 15 words for topic #6\n",
       "\n",
       ">towel, dulwich, breakfast, come, kitchen, restaurant, greenwich, house, use, iron, east, park, room, london, free\n"
      ]
     },
     "metadata": {},
     "output_type": "display_data"
    },
    {
     "data": {
      "text/markdown": [
       "#### Top 15 words for topic #7\n",
       "\n",
       ">sofa, access, garden, house, area, london, living, home, flat, large, double, kitchen, room, bed, bedroom\n"
      ]
     },
     "metadata": {},
     "output_type": "display_data"
    },
    {
     "data": {
      "text/markdown": [
       "#### Top 15 words for topic #8\n",
       "\n",
       ">tube, line, shop, street, central, bus, train, house, flat, park, away, station, walk, london, minute\n"
      ]
     },
     "metadata": {},
     "output_type": "display_data"
    },
    {
     "data": {
      "text/markdown": [
       "#### Top 15 words for topic #9\n",
       "\n",
       ">towel, fridge, flat, clean, machine, freezer, professionally, kitchen, bed, linen, microwave, hotel, stay, fully, oven\n"
      ]
     },
     "metadata": {},
     "output_type": "display_data"
    },
    {
     "data": {
      "text/markdown": [
       "#### Top 15 words for topic #10\n",
       "\n",
       ">richmond, yol, short, good, close, thing, min, homely, putney, http, www, hampton, place, love, guest\n"
      ]
     },
     "metadata": {},
     "output_type": "display_data"
    },
    {
     "data": {
      "text/markdown": [
       "#### Top 15 words for topic #11\n",
       "\n",
       ">tube, flat, large, tennis, restaurant, bedroom, london, park, station, min, minute, house, room, walk, wimbledon\n"
      ]
     },
     "metadata": {},
     "output_type": "display_data"
    },
    {
     "data": {
      "text/markdown": [
       "#### Top 15 words for topic #12\n",
       "\n",
       ">access, high, garden, quiet, park, room, central, street, station, locate, min, area, apartment, london, walk\n"
      ]
     },
     "metadata": {},
     "output_type": "display_data"
    },
    {
     "data": {
      "text/markdown": [
       "#### Top 15 words for topic #13\n",
       "\n",
       ">free, bedroom, distance, double, kitchen, restaurant, close, london, great, park, guest, house, walk, room, access\n"
      ]
     },
     "metadata": {},
     "output_type": "display_data"
    },
    {
     "data": {
      "text/markdown": [
       "#### Top 15 words for topic #14\n",
       "\n",
       ">minute, road, open, bed, train, lovely, town, thames, river, walk, park, kew, house, richmond, garden\n"
      ]
     },
     "metadata": {},
     "output_type": "display_data"
    }
   ],
   "source": [
    "for i,topic in enumerate(countryside_normal_LDA.components_):\n",
    "    as_markdown(f'Top 15 words for topic #{i}', ', '.join([vectorizer_normal.get_feature_names()[i] for i in topic.argsort()[-15:]]))"
   ]
  },
  {
   "cell_type": "markdown",
   "id": "8e5d3bf7",
   "metadata": {},
   "source": [
    "Here we did the same for normal listings as we did above for good listings to add the topic back to the nomal listing dataframe: "
   ]
  },
  {
   "cell_type": "code",
   "execution_count": 58,
   "id": "e0e78a3d",
   "metadata": {},
   "outputs": [],
   "source": [
    "# add the topic back to the data\n",
    "topic_values_normal = countryside_normal_LDA.transform(countryside_normal_mtrix)"
   ]
  },
  {
   "cell_type": "code",
   "execution_count": 59,
   "id": "aad8a901",
   "metadata": {},
   "outputs": [
    {
     "data": {
      "text/plain": [
       "(569, 15)"
      ]
     },
     "execution_count": 59,
     "metadata": {},
     "output_type": "execute_result"
    }
   ],
   "source": [
    "topic_values_normal.shape"
   ]
  },
  {
   "cell_type": "code",
   "execution_count": 60,
   "id": "3ccb1e23",
   "metadata": {},
   "outputs": [
    {
     "name": "stderr",
     "output_type": "stream",
     "text": [
      "F:\\anaconda3\\lib\\site-packages\\geopandas\\geodataframe.py:1351: SettingWithCopyWarning: \n",
      "A value is trying to be set on a copy of a slice from a DataFrame.\n",
      "Try using .loc[row_indexer,col_indexer] = value instead\n",
      "\n",
      "See the caveats in the documentation: https://pandas.pydata.org/pandas-docs/stable/user_guide/indexing.html#returning-a-view-versus-a-copy\n",
      "  super().__setitem__(key, value)\n"
     ]
    }
   ],
   "source": [
    "countryside_normal['Topic'] = topic_values_normal.argmax(axis=1)"
   ]
  },
  {
   "cell_type": "code",
   "execution_count": 61,
   "id": "2d9893fd",
   "metadata": {},
   "outputs": [
    {
     "data": {
      "text/plain": [
       "Topic\n",
       "0     148\n",
       "8      97\n",
       "7      90\n",
       "11     45\n",
       "12     42\n",
       "2      31\n",
       "3      22\n",
       "14     20\n",
       "4      18\n",
       "13     18\n",
       "6      14\n",
       "9       8\n",
       "1       7\n",
       "5       7\n",
       "10      2\n",
       "dtype: int64"
      ]
     },
     "execution_count": 61,
     "metadata": {},
     "output_type": "execute_result"
    }
   ],
   "source": [
    "countryside_normal.groupby(['Topic']).size().sort_values(ascending=False)"
   ]
  },
  {
   "cell_type": "code",
   "execution_count": 62,
   "id": "7bc87f89",
   "metadata": {},
   "outputs": [
    {
     "data": {
      "text/plain": [
       "21        0\n",
       "26        6\n",
       "62       12\n",
       "134       0\n",
       "146       8\n",
       "         ..\n",
       "67733     7\n",
       "71008     0\n",
       "72025     0\n",
       "72115    12\n",
       "72302    13\n",
       "Name: Topic, Length: 569, dtype: int64"
      ]
     },
     "execution_count": 62,
     "metadata": {},
     "output_type": "execute_result"
    }
   ],
   "source": [
    "countryside_normal.Topic"
   ]
  },
  {
   "cell_type": "markdown",
   "id": "f089d47a",
   "metadata": {},
   "source": [
    "The topics for Normal listings were also allocated into three categories: \"Indoor features\",\"Convenience\",\"Surrounding characteristics\":"
   ]
  },
  {
   "cell_type": "code",
   "execution_count": 63,
   "id": "181622cf",
   "metadata": {},
   "outputs": [],
   "source": [
    "indoor_features_topic_normal = [0,4,7,9]\n",
    "convenience_topic_normal  = [2,8,12,13] \n",
    "surrounding_characteristics_normal = [1,3,5,6,10,11,14]"
   ]
  },
  {
   "cell_type": "code",
   "execution_count": 64,
   "id": "09ce3e77",
   "metadata": {},
   "outputs": [
    {
     "name": "stderr",
     "output_type": "stream",
     "text": [
      "F:\\anaconda3\\lib\\site-packages\\pandas\\core\\indexing.py:1817: SettingWithCopyWarning: \n",
      "A value is trying to be set on a copy of a slice from a DataFrame.\n",
      "Try using .loc[row_indexer,col_indexer] = value instead\n",
      "\n",
      "See the caveats in the documentation: https://pandas.pydata.org/pandas-docs/stable/user_guide/indexing.html#returning-a-view-versus-a-copy\n",
      "  self._setitem_single_column(loc, value, pi)\n"
     ]
    }
   ],
   "source": [
    "for i in indoor_features_topic_normal:\n",
    "    countryside_normal.loc[countryside_normal['Topic'] == i, 'Topic Category'] = 1\n",
    "\n",
    "for j in convenience_topic_normal:\n",
    "    countryside_normal.loc[countryside_normal['Topic'] == j, 'Topic Category'] = 2\n",
    "\n",
    "for m in surrounding_characteristics_normal:\n",
    "    countryside_normal.loc[countryside_normal['Topic'] == m, 'Topic Category'] = 3"
   ]
  },
  {
   "cell_type": "code",
   "execution_count": 65,
   "id": "feafaac7",
   "metadata": {},
   "outputs": [
    {
     "data": {
      "text/plain": [
       "Topic Category\n",
       "1.0    264\n",
       "2.0    188\n",
       "3.0    117\n",
       "dtype: int64"
      ]
     },
     "execution_count": 65,
     "metadata": {},
     "output_type": "execute_result"
    }
   ],
   "source": [
    "countryside_normal.groupby(['Topic Category']).size().sort_values(ascending=False)"
   ]
  },
  {
   "cell_type": "code",
   "execution_count": 66,
   "id": "66ff3cec",
   "metadata": {},
   "outputs": [],
   "source": [
    "topic_category_normal = countryside_normal.groupby(['Topic Category']).size().sort_values(ascending=False)"
   ]
  },
  {
   "cell_type": "code",
   "execution_count": 67,
   "id": "bb95b5a8",
   "metadata": {},
   "outputs": [],
   "source": [
    "topic_category_normal = pd.DataFrame(topic_category_normal)"
   ]
  },
  {
   "cell_type": "code",
   "execution_count": 68,
   "id": "dcd66ea4",
   "metadata": {},
   "outputs": [],
   "source": [
    "topic_category_normal['percentage_normal'] = topic_category_normal/569"
   ]
  },
  {
   "cell_type": "code",
   "execution_count": 69,
   "id": "dce63e2c",
   "metadata": {},
   "outputs": [
    {
     "data": {
      "text/html": [
       "<div>\n",
       "<style scoped>\n",
       "    .dataframe tbody tr th:only-of-type {\n",
       "        vertical-align: middle;\n",
       "    }\n",
       "\n",
       "    .dataframe tbody tr th {\n",
       "        vertical-align: top;\n",
       "    }\n",
       "\n",
       "    .dataframe thead th {\n",
       "        text-align: right;\n",
       "    }\n",
       "</style>\n",
       "<table border=\"1\" class=\"dataframe\">\n",
       "  <thead>\n",
       "    <tr style=\"text-align: right;\">\n",
       "      <th></th>\n",
       "      <th>0</th>\n",
       "      <th>percentage_normal</th>\n",
       "    </tr>\n",
       "    <tr>\n",
       "      <th>Topic Category</th>\n",
       "      <th></th>\n",
       "      <th></th>\n",
       "    </tr>\n",
       "  </thead>\n",
       "  <tbody>\n",
       "    <tr>\n",
       "      <th>1.0</th>\n",
       "      <td>264</td>\n",
       "      <td>0.463972</td>\n",
       "    </tr>\n",
       "    <tr>\n",
       "      <th>2.0</th>\n",
       "      <td>188</td>\n",
       "      <td>0.330404</td>\n",
       "    </tr>\n",
       "    <tr>\n",
       "      <th>3.0</th>\n",
       "      <td>117</td>\n",
       "      <td>0.205624</td>\n",
       "    </tr>\n",
       "  </tbody>\n",
       "</table>\n",
       "</div>"
      ],
      "text/plain": [
       "                  0  percentage_normal\n",
       "Topic Category                        \n",
       "1.0             264           0.463972\n",
       "2.0             188           0.330404\n",
       "3.0             117           0.205624"
      ]
     },
     "execution_count": 69,
     "metadata": {},
     "output_type": "execute_result"
    }
   ],
   "source": [
    "topic_category_normal"
   ]
  },
  {
   "cell_type": "markdown",
   "id": "d2fc31a5",
   "metadata": {},
   "source": [
    "Here we can see that, in the normal listings Indoor features(category1) accounts for 46% of all listings whihc is much lower than that of good listings"
   ]
  },
  {
   "cell_type": "code",
   "execution_count": null,
   "id": "cd8fa1f9",
   "metadata": {},
   "outputs": [],
   "source": []
  },
  {
   "cell_type": "markdown",
   "id": "8b25c94e",
   "metadata": {},
   "source": [
    "##### Compare the description category of good and normal listings"
   ]
  },
  {
   "cell_type": "markdown",
   "id": "c0723919",
   "metadata": {},
   "source": [
    "Here we compare the detailed difference of listing category between the good and normal listings:"
   ]
  },
  {
   "cell_type": "markdown",
   "id": "0f4883ac",
   "metadata": {},
   "source": [
    "Merge two dataframe:"
   ]
  },
  {
   "cell_type": "code",
   "execution_count": 70,
   "id": "307f6013",
   "metadata": {},
   "outputs": [],
   "source": [
    "category_compare = topic_category_normal.merge(topic_category_good, on='Topic Category')"
   ]
  },
  {
   "cell_type": "code",
   "execution_count": 71,
   "id": "7115631c",
   "metadata": {},
   "outputs": [
    {
     "data": {
      "text/html": [
       "<div>\n",
       "<style scoped>\n",
       "    .dataframe tbody tr th:only-of-type {\n",
       "        vertical-align: middle;\n",
       "    }\n",
       "\n",
       "    .dataframe tbody tr th {\n",
       "        vertical-align: top;\n",
       "    }\n",
       "\n",
       "    .dataframe thead th {\n",
       "        text-align: right;\n",
       "    }\n",
       "</style>\n",
       "<table border=\"1\" class=\"dataframe\">\n",
       "  <thead>\n",
       "    <tr style=\"text-align: right;\">\n",
       "      <th></th>\n",
       "      <th>0_x</th>\n",
       "      <th>percentage_normal</th>\n",
       "      <th>0_y</th>\n",
       "      <th>percentage_good</th>\n",
       "    </tr>\n",
       "    <tr>\n",
       "      <th>Topic Category</th>\n",
       "      <th></th>\n",
       "      <th></th>\n",
       "      <th></th>\n",
       "      <th></th>\n",
       "    </tr>\n",
       "  </thead>\n",
       "  <tbody>\n",
       "    <tr>\n",
       "      <th>1.0</th>\n",
       "      <td>264</td>\n",
       "      <td>0.463972</td>\n",
       "      <td>406</td>\n",
       "      <td>0.628483</td>\n",
       "    </tr>\n",
       "    <tr>\n",
       "      <th>2.0</th>\n",
       "      <td>188</td>\n",
       "      <td>0.330404</td>\n",
       "      <td>125</td>\n",
       "      <td>0.193498</td>\n",
       "    </tr>\n",
       "    <tr>\n",
       "      <th>3.0</th>\n",
       "      <td>117</td>\n",
       "      <td>0.205624</td>\n",
       "      <td>115</td>\n",
       "      <td>0.178019</td>\n",
       "    </tr>\n",
       "  </tbody>\n",
       "</table>\n",
       "</div>"
      ],
      "text/plain": [
       "                0_x  percentage_normal  0_y  percentage_good\n",
       "Topic Category                                              \n",
       "1.0             264           0.463972  406         0.628483\n",
       "2.0             188           0.330404  125         0.193498\n",
       "3.0             117           0.205624  115         0.178019"
      ]
     },
     "execution_count": 71,
     "metadata": {},
     "output_type": "execute_result"
    }
   ],
   "source": [
    "category_compare"
   ]
  },
  {
   "cell_type": "code",
   "execution_count": 72,
   "id": "94e3115b",
   "metadata": {},
   "outputs": [],
   "source": [
    "# Prepare data for display\n",
    "catogory_percentage_good = category_compare.percentage_good\n",
    "catogory_percentage_normal = category_compare.percentage_normal"
   ]
  },
  {
   "cell_type": "code",
   "execution_count": 73,
   "id": "45c0cf66",
   "metadata": {},
   "outputs": [
    {
     "data": {
      "image/png": "[encoded data removed]",
      "text/plain": [
       "<Figure size 720x288 with 1 Axes>"
      ]
     },
     "metadata": {
      "needs_background": "light"
     },
     "output_type": "display_data"
    }
   ],
   "source": [
    "# compare the difference by bar chart\n",
    "\n",
    "N=3\n",
    "fig, ax = plt.subplots(figsize=(10,4))\n",
    "ind = np.arange(N)    # the x locations for the groups\n",
    "width = 0.25        # the width of the bars\n",
    "label_category = ['Indoor features','Convenience','Surrounding characteristics']\n",
    "ax.bar(ind, catogory_percentage_normal, width,label='normal')\n",
    "\n",
    "ax.bar(ind + width, catogory_percentage_good, width,label='good')\n",
    "\n",
    "ax.set_ylabel('Percentage',fontsize = 15)\n",
    "ax.set_title('Category proportion of listings',fontsize = 15)\n",
    "ax.set_xticks(ind + width / 2)\n",
    "ax.set_xticklabels(label_category)\n",
    "\n",
    "ax.legend()\n",
    "plt.show()"
   ]
  },
  {
   "cell_type": "markdown",
   "id": "7749732a",
   "metadata": {},
   "source": [
    "From the bar chart above we can see among the three categories, Good listings are more about the indoor features while normal listings pay more attention to the convenience and the surrounding characteristics. "
   ]
  },
  {
   "cell_type": "markdown",
   "id": "a3bebb11",
   "metadata": {},
   "source": [
    "Therefore, the different performance of listings may be influenced by the listing description. More description related to listing's indoor features may lead to good performance and get high review score from customers."
   ]
  },
  {
   "cell_type": "markdown",
   "id": "7706b22f",
   "metadata": {},
   "source": [
    "Next we will analyse the amenity items of the listings to see if good listings have better indoor amenities."
   ]
  },
  {
   "cell_type": "markdown",
   "id": "fdf9cc54",
   "metadata": {},
   "source": [
    "### Frequency analysis for listing amenity items"
   ]
  },
  {
   "cell_type": "markdown",
   "id": "25fc0165",
   "metadata": {},
   "source": [
    "In each Airbnb listing, the amenities are chosen by the host from an amenity list provided by Airbnb. The analysis for amenities is to find the frequency of each amenity item occurring in all listings and identify the most used items in the two sub-groups."
   ]
  },
  {
   "cell_type": "markdown",
   "id": "a588cc15",
   "metadata": {},
   "source": [
    "##### Amenity items analysis for good listings"
   ]
  },
  {
   "cell_type": "code",
   "execution_count": 74,
   "id": "8ba55aae",
   "metadata": {},
   "outputs": [],
   "source": [
    "# select the amenities column\n",
    "amenity_good = countryside_good['amenities']"
   ]
  },
  {
   "cell_type": "code",
   "execution_count": 75,
   "id": "f0ee313e",
   "metadata": {},
   "outputs": [],
   "source": [
    "amenity_good_pd = pd.DataFrame(amenity_good)"
   ]
  },
  {
   "cell_type": "code",
   "execution_count": 76,
   "id": "7fcc46d4",
   "metadata": {},
   "outputs": [],
   "source": [
    "# get the unique amenity items\n",
    "amenity_good_type = list(set(amenity_good.apply(lambda x: x[1:-1].replace(\"\\\"\",\"\").split(\",\")).sum()))"
   ]
  },
  {
   "cell_type": "code",
   "execution_count": 77,
   "id": "30dab474",
   "metadata": {},
   "outputs": [
    {
     "name": "stderr",
     "output_type": "stream",
     "text": [
      "<ipython-input-77-a191f921e04a>:5: PerformanceWarning: DataFrame is highly fragmented.  This is usually the result of calling `frame.insert` many times, which has poor performance.  Consider joining all columns at once using pd.concat(axis=1) instead.  To get a de-fragmented frame, use `newframe = frame.copy()`\n",
      "  amenity_good_pd[a] = amenity_good_pd['amenities'].str.contains(a)\n"
     ]
    }
   ],
   "source": [
    "# get the isting-amenity_item matrix\n",
    "amenity_good_type = [i for i in amenity_good_type if i!=\"\"]\n",
    "\n",
    "for a in amenity_good_type:\n",
    "    amenity_good_pd[a] = amenity_good_pd['amenities'].str.contains(a)"
   ]
  },
  {
   "cell_type": "code",
   "execution_count": 78,
   "id": "7c868cc1",
   "metadata": {},
   "outputs": [
    {
     "data": {
      "text/plain": [
       "(646, 114)"
      ]
     },
     "execution_count": 78,
     "metadata": {},
     "output_type": "execute_result"
    }
   ],
   "source": [
    "amenity_good_pd.shape"
   ]
  },
  {
   "cell_type": "code",
   "execution_count": 79,
   "id": "e41d26ee",
   "metadata": {},
   "outputs": [
    {
     "name": "stderr",
     "output_type": "stream",
     "text": [
      "<ipython-input-79-7b9275536041>:2: FutureWarning: Dropping of nuisance columns in DataFrame reductions (with 'numeric_only=None') is deprecated; in a future version this will raise TypeError.  Select only valid columns before calling the reduction.\n",
      "  amenity_good_pd.mean().sort_values(ascending=False).head(15)\n"
     ]
    },
    {
     "data": {
      "text/plain": [
       "Heating                      0.982972\n",
       "Wifi                         0.975232\n",
       "Essentials                   0.953560\n",
       "Kitchen                      0.928793\n",
       "Washer                       0.899381\n",
       "Hangers                      0.828173\n",
       "Iron                         0.811146\n",
       "Hair dryer                   0.732198\n",
       "Laptop-friendly workspace    0.642415\n",
       "Hot water                    0.599071\n",
       "Dryer                        0.540248\n",
       "Refrigerator                 0.476780\n",
       "Oven                         0.434985\n",
       "First aid kit                0.379257\n",
       "Microwave                    0.377709\n",
       "dtype: float64"
      ]
     },
     "execution_count": 79,
     "metadata": {},
     "output_type": "execute_result"
    }
   ],
   "source": [
    "# get the frequency of each amenity items, Top 15\n",
    "amenity_good_pd.mean().sort_values(ascending=False).head(15)"
   ]
  },
  {
   "cell_type": "markdown",
   "id": "736da880",
   "metadata": {},
   "source": [
    "we can see that Heating, Wifi, Essentials and Kitchen are the 4 most frequent items in amenity."
   ]
  },
  {
   "cell_type": "code",
   "execution_count": 80,
   "id": "bfe48c1d",
   "metadata": {},
   "outputs": [
    {
     "name": "stderr",
     "output_type": "stream",
     "text": [
      "<ipython-input-80-4ec14d942a40>:1: FutureWarning: Dropping of nuisance columns in DataFrame reductions (with 'numeric_only=None') is deprecated; in a future version this will raise TypeError.  Select only valid columns before calling the reduction.\n",
      "  top_amenity_good = pd.DataFrame({'amenity':amenity_good_pd.mean().index, 'frequency_good':amenity_good_pd.mean().values})\n"
     ]
    }
   ],
   "source": [
    "top_amenity_good = pd.DataFrame({'amenity':amenity_good_pd.mean().index, 'frequency_good':amenity_good_pd.mean().values})"
   ]
  },
  {
   "cell_type": "code",
   "execution_count": 81,
   "id": "df08c608",
   "metadata": {},
   "outputs": [
    {
     "data": {
      "text/html": [
       "<div>\n",
       "<style scoped>\n",
       "    .dataframe tbody tr th:only-of-type {\n",
       "        vertical-align: middle;\n",
       "    }\n",
       "\n",
       "    .dataframe tbody tr th {\n",
       "        vertical-align: top;\n",
       "    }\n",
       "\n",
       "    .dataframe thead th {\n",
       "        text-align: right;\n",
       "    }\n",
       "</style>\n",
       "<table border=\"1\" class=\"dataframe\">\n",
       "  <thead>\n",
       "    <tr style=\"text-align: right;\">\n",
       "      <th></th>\n",
       "      <th>amenity</th>\n",
       "      <th>frequency_good</th>\n",
       "    </tr>\n",
       "  </thead>\n",
       "  <tbody>\n",
       "    <tr>\n",
       "      <th>0</th>\n",
       "      <td>Ethernet connection</td>\n",
       "      <td>0.000000</td>\n",
       "    </tr>\n",
       "    <tr>\n",
       "      <th>1</th>\n",
       "      <td>Patio or balcony</td>\n",
       "      <td>0.000000</td>\n",
       "    </tr>\n",
       "    <tr>\n",
       "      <th>2</th>\n",
       "      <td>Children\\u2019s books and toys</td>\n",
       "      <td>0.000000</td>\n",
       "    </tr>\n",
       "    <tr>\n",
       "      <th>3</th>\n",
       "      <td>Lake access</td>\n",
       "      <td>0.000000</td>\n",
       "    </tr>\n",
       "    <tr>\n",
       "      <th>4</th>\n",
       "      <td>Pack \\u2019n Play/travel crib</td>\n",
       "      <td>0.000000</td>\n",
       "    </tr>\n",
       "    <tr>\n",
       "      <th>...</th>\n",
       "      <td>...</td>\n",
       "      <td>...</td>\n",
       "    </tr>\n",
       "    <tr>\n",
       "      <th>108</th>\n",
       "      <td>Iron</td>\n",
       "      <td>0.000000</td>\n",
       "    </tr>\n",
       "    <tr>\n",
       "      <th>109</th>\n",
       "      <td>Air conditioning</td>\n",
       "      <td>0.037152</td>\n",
       "    </tr>\n",
       "    <tr>\n",
       "      <th>110</th>\n",
       "      <td>First aid kit</td>\n",
       "      <td>0.000000</td>\n",
       "    </tr>\n",
       "    <tr>\n",
       "      <th>111</th>\n",
       "      <td>Fireplace guards</td>\n",
       "      <td>0.010836</td>\n",
       "    </tr>\n",
       "    <tr>\n",
       "      <th>112</th>\n",
       "      <td>Paid parking off premises</td>\n",
       "      <td>0.000000</td>\n",
       "    </tr>\n",
       "  </tbody>\n",
       "</table>\n",
       "<p>113 rows × 2 columns</p>\n",
       "</div>"
      ],
      "text/plain": [
       "                            amenity  frequency_good\n",
       "0               Ethernet connection        0.000000\n",
       "1                  Patio or balcony        0.000000\n",
       "2    Children\\u2019s books and toys        0.000000\n",
       "3                       Lake access        0.000000\n",
       "4     Pack \\u2019n Play/travel crib        0.000000\n",
       "..                              ...             ...\n",
       "108                            Iron        0.000000\n",
       "109                Air conditioning        0.037152\n",
       "110                   First aid kit        0.000000\n",
       "111                Fireplace guards        0.010836\n",
       "112       Paid parking off premises        0.000000\n",
       "\n",
       "[113 rows x 2 columns]"
      ]
     },
     "execution_count": 81,
     "metadata": {},
     "output_type": "execute_result"
    }
   ],
   "source": [
    "# get the frequency of each amenity items in this dataframe\n",
    "top_amenity_good"
   ]
  },
  {
   "cell_type": "markdown",
   "id": "58fe522e",
   "metadata": {},
   "source": [
    "##### Amenity items analysis for Normal listings"
   ]
  },
  {
   "cell_type": "code",
   "execution_count": 82,
   "id": "c29152d3",
   "metadata": {},
   "outputs": [
    {
     "data": {
      "text/plain": [
       "110"
      ]
     },
     "execution_count": 82,
     "metadata": {},
     "output_type": "execute_result"
    }
   ],
   "source": [
    "#amenity_normal\n",
    "amenity_normal = countryside_normal['amenities']\n",
    "amenity_normal_pd = pd.DataFrame(amenity_normal)\n",
    "amenity_normal_type = list(set(amenity_normal.apply(lambda x: x[1:-1].replace(\"\\\"\",\"\").split(\",\")).sum()))\n",
    "len(amenity_normal_type)"
   ]
  },
  {
   "cell_type": "code",
   "execution_count": 83,
   "id": "5b6b5d8d",
   "metadata": {},
   "outputs": [
    {
     "name": "stderr",
     "output_type": "stream",
     "text": [
      "<ipython-input-83-770ec2985e85>:4: PerformanceWarning: DataFrame is highly fragmented.  This is usually the result of calling `frame.insert` many times, which has poor performance.  Consider joining all columns at once using pd.concat(axis=1) instead.  To get a de-fragmented frame, use `newframe = frame.copy()`\n",
      "  amenity_normal_pd[a] = amenity_normal_pd['amenities'].str.contains(a)\n"
     ]
    },
    {
     "data": {
      "text/plain": [
       "(569, 110)"
      ]
     },
     "execution_count": 83,
     "metadata": {},
     "output_type": "execute_result"
    }
   ],
   "source": [
    "amenity_normal_type = [i for i in amenity_normal_type if i!=\"\"]\n",
    "\n",
    "for a in amenity_normal_type:\n",
    "    amenity_normal_pd[a] = amenity_normal_pd['amenities'].str.contains(a)\n",
    "amenity_normal_pd.shape"
   ]
  },
  {
   "cell_type": "code",
   "execution_count": 84,
   "id": "80607e35",
   "metadata": {},
   "outputs": [],
   "source": [
    "#top_amenity_normal = pd.DataFrame(data=amenity_normal_pd.mean(),columns=['frequency_normal'])"
   ]
  },
  {
   "cell_type": "code",
   "execution_count": 85,
   "id": "4acaf364",
   "metadata": {},
   "outputs": [
    {
     "name": "stderr",
     "output_type": "stream",
     "text": [
      "<ipython-input-85-5b32d1953724>:1: FutureWarning: Dropping of nuisance columns in DataFrame reductions (with 'numeric_only=None') is deprecated; in a future version this will raise TypeError.  Select only valid columns before calling the reduction.\n",
      "  amenity_normal_pd.mean().sort_values(ascending=False).head(15)\n"
     ]
    },
    {
     "data": {
      "text/plain": [
       "Heating                      0.961336\n",
       "Wifi                         0.938489\n",
       "Essentials                   0.917399\n",
       "Kitchen                      0.894552\n",
       "Smoke alarm                  0.889279\n",
       "Hair dryer                   0.743409\n",
       "Hot water                    0.659051\n",
       "Laptop-friendly workspace    0.634446\n",
       "Refrigerator                 0.511424\n",
       "Oven                         0.423550\n",
       "Stove                        0.411248\n",
       "Microwave                    0.409490\n",
       "Dryer                        0.391916\n",
       "First aid kit                0.362039\n",
       "Private entrance             0.297012\n",
       "dtype: float64"
      ]
     },
     "execution_count": 85,
     "metadata": {},
     "output_type": "execute_result"
    }
   ],
   "source": [
    "amenity_normal_pd.mean().sort_values(ascending=False).head(15)"
   ]
  },
  {
   "cell_type": "markdown",
   "id": "d70afe02",
   "metadata": {},
   "source": [
    "We can see that Heating, Wifi, Essentials and Kitchen are the 4 most frequent items in amenity, which is the same as good listings."
   ]
  },
  {
   "cell_type": "code",
   "execution_count": 86,
   "id": "f1e5744e",
   "metadata": {},
   "outputs": [
    {
     "name": "stderr",
     "output_type": "stream",
     "text": [
      "<ipython-input-86-0489dd21580a>:1: FutureWarning: Dropping of nuisance columns in DataFrame reductions (with 'numeric_only=None') is deprecated; in a future version this will raise TypeError.  Select only valid columns before calling the reduction.\n",
      "  top_amenity_normal = pd.DataFrame({'amenity':amenity_normal_pd.mean().index, 'frequency_normal':amenity_normal_pd.mean().values})\n"
     ]
    }
   ],
   "source": [
    "top_amenity_normal = pd.DataFrame({'amenity':amenity_normal_pd.mean().index, 'frequency_normal':amenity_normal_pd.mean().values})"
   ]
  },
  {
   "cell_type": "code",
   "execution_count": 87,
   "id": "f0f92b41",
   "metadata": {},
   "outputs": [
    {
     "data": {
      "text/html": [
       "<div>\n",
       "<style scoped>\n",
       "    .dataframe tbody tr th:only-of-type {\n",
       "        vertical-align: middle;\n",
       "    }\n",
       "\n",
       "    .dataframe tbody tr th {\n",
       "        vertical-align: top;\n",
       "    }\n",
       "\n",
       "    .dataframe thead th {\n",
       "        text-align: right;\n",
       "    }\n",
       "</style>\n",
       "<table border=\"1\" class=\"dataframe\">\n",
       "  <thead>\n",
       "    <tr style=\"text-align: right;\">\n",
       "      <th></th>\n",
       "      <th>amenity</th>\n",
       "      <th>frequency_normal</th>\n",
       "    </tr>\n",
       "  </thead>\n",
       "  <tbody>\n",
       "    <tr>\n",
       "      <th>0</th>\n",
       "      <td>Ethernet connection</td>\n",
       "      <td>0.000000</td>\n",
       "    </tr>\n",
       "    <tr>\n",
       "      <th>1</th>\n",
       "      <td>Patio or balcony</td>\n",
       "      <td>0.000000</td>\n",
       "    </tr>\n",
       "    <tr>\n",
       "      <th>2</th>\n",
       "      <td>Children\\u2019s books and toys</td>\n",
       "      <td>0.000000</td>\n",
       "    </tr>\n",
       "    <tr>\n",
       "      <th>3</th>\n",
       "      <td>Lake access</td>\n",
       "      <td>0.000000</td>\n",
       "    </tr>\n",
       "    <tr>\n",
       "      <th>4</th>\n",
       "      <td>Pack \\u2019n Play/travel crib</td>\n",
       "      <td>0.000000</td>\n",
       "    </tr>\n",
       "    <tr>\n",
       "      <th>...</th>\n",
       "      <td>...</td>\n",
       "      <td>...</td>\n",
       "    </tr>\n",
       "    <tr>\n",
       "      <th>104</th>\n",
       "      <td>Iron</td>\n",
       "      <td>0.000000</td>\n",
       "    </tr>\n",
       "    <tr>\n",
       "      <th>105</th>\n",
       "      <td>Air conditioning</td>\n",
       "      <td>0.056239</td>\n",
       "    </tr>\n",
       "    <tr>\n",
       "      <th>106</th>\n",
       "      <td>First aid kit</td>\n",
       "      <td>0.000000</td>\n",
       "    </tr>\n",
       "    <tr>\n",
       "      <th>107</th>\n",
       "      <td>Fireplace guards</td>\n",
       "      <td>0.012302</td>\n",
       "    </tr>\n",
       "    <tr>\n",
       "      <th>108</th>\n",
       "      <td>Paid parking off premises</td>\n",
       "      <td>0.000000</td>\n",
       "    </tr>\n",
       "  </tbody>\n",
       "</table>\n",
       "<p>109 rows × 2 columns</p>\n",
       "</div>"
      ],
      "text/plain": [
       "                            amenity  frequency_normal\n",
       "0               Ethernet connection          0.000000\n",
       "1                  Patio or balcony          0.000000\n",
       "2    Children\\u2019s books and toys          0.000000\n",
       "3                       Lake access          0.000000\n",
       "4     Pack \\u2019n Play/travel crib          0.000000\n",
       "..                              ...               ...\n",
       "104                            Iron          0.000000\n",
       "105                Air conditioning          0.056239\n",
       "106                   First aid kit          0.000000\n",
       "107                Fireplace guards          0.012302\n",
       "108       Paid parking off premises          0.000000\n",
       "\n",
       "[109 rows x 2 columns]"
      ]
     },
     "execution_count": 87,
     "metadata": {},
     "output_type": "execute_result"
    }
   ],
   "source": [
    "top_amenity_normal"
   ]
  },
  {
   "cell_type": "markdown",
   "id": "267b5a87",
   "metadata": {},
   "source": [
    "##### Compare the amenity items of good and normal listings"
   ]
  },
  {
   "cell_type": "code",
   "execution_count": 88,
   "id": "e298a994",
   "metadata": {},
   "outputs": [],
   "source": [
    "# merge the good and normal listing\n",
    "amenities_compare = top_amenity_normal.merge(top_amenity_good, how='outer')"
   ]
  },
  {
   "cell_type": "code",
   "execution_count": null,
   "id": "375fee85",
   "metadata": {},
   "outputs": [],
   "source": []
  },
  {
   "cell_type": "code",
   "execution_count": 89,
   "id": "e1933ab3",
   "metadata": {},
   "outputs": [],
   "source": [
    "# prepare the data for display\n",
    "normal_amenity_top = amenities_compare.sort_values(by='frequency_normal',ascending=False).head(10).frequency_normal\n",
    "good_amenity_top = amenities_compare.sort_values(by='frequency_normal',ascending=False).head(10).frequency_good\n",
    "label = amenities_compare.sort_values(by='frequency_normal',ascending=False).head(10).amenity.values\n"
   ]
  },
  {
   "cell_type": "code",
   "execution_count": 90,
   "id": "8be746d3",
   "metadata": {},
   "outputs": [],
   "source": [
    "label = label.tolist()"
   ]
  },
  {
   "cell_type": "code",
   "execution_count": 91,
   "id": "08d33741",
   "metadata": {},
   "outputs": [
    {
     "data": {
      "text/plain": [
       "['Heating',\n",
       " 'Wifi',\n",
       " 'Essentials',\n",
       " 'Kitchen',\n",
       " 'Smoke alarm',\n",
       " 'Hair dryer',\n",
       " 'Hot water',\n",
       " 'Laptop-friendly workspace',\n",
       " 'Refrigerator',\n",
       " 'Oven']"
      ]
     },
     "execution_count": 91,
     "metadata": {},
     "output_type": "execute_result"
    }
   ],
   "source": [
    "label"
   ]
  },
  {
   "cell_type": "code",
   "execution_count": 92,
   "id": "eb8fca8b",
   "metadata": {},
   "outputs": [
    {
     "data": {
      "image/png": "[encoded data removed]",
      "text/plain": [
       "<Figure size 1152x288 with 1 Axes>"
      ]
     },
     "metadata": {
      "needs_background": "light"
     },
     "output_type": "display_data"
    }
   ],
   "source": [
    "# create the bar chart to compare the amenity item frequency in good and normal listings\n",
    "\n",
    "N=10\n",
    "fig, ax = plt.subplots(figsize=(16,4))\n",
    "ind = np.arange(N)    # the x locations for the groups\n",
    "width = 0.25        # the width of the bars\n",
    "ax.bar(ind, normal_amenity_top, width,label='normal')\n",
    "\n",
    "ax.bar(ind + width, good_amenity_top, width,label='good')\n",
    "\n",
    "ax.set_ylabel('Frequency',fontsize = 15)\n",
    "ax.set_title('Amenity items occurring frequency in listings',fontsize = 20)\n",
    "ax.set_xticks(ind + width / 2)\n",
    "ax.set_xticklabels(label)\n",
    "\n",
    "ax.legend(fontsize = 13)\n",
    "plt.show()"
   ]
  },
  {
   "cell_type": "markdown",
   "id": "a964f6c7",
   "metadata": {},
   "source": [
    "The bar chart shows that among the 10 top items, good listings group has 6 of them higher than the normal ones. For the top 4 items in normal listings, their frequency are all lower than good listings, which indicates that the amenities quality in normal listings are not as good as the good listings. This may be the reason why the normal listings’ hosts did not write more about the indoor features in the listing description."
   ]
  },
  {
   "cell_type": "markdown",
   "id": "7a66259e",
   "metadata": {},
   "source": [
    "Therefore, the reason why listing performance is different may be that in the countryside some rooms do not have high quality indoor facilities, so the hosts provide less information about this and pay more attention on the surrounding characteristics to attract tourists. However, people have enough Airbnb listings to choose in those areas so the surrounding tourist attractions would not be a big advantage. Finally, more tourists would choose the listings with better indoor amenities equipped which leads to the higher review scores of those listings. "
   ]
  }
 ],
 "metadata": {
  "kernelspec": {
   "display_name": "Python 3",
   "language": "python",
   "name": "python3"
  },
  "language_info": {
   "codemirror_mode": {
    "name": "ipython",
    "version": 3
   },
   "file_extension": ".py",
   "mimetype": "text/x-python",
   "name": "python",
   "nbconvert_exporter": "python",
   "pygments_lexer": "ipython3",
   "version": "3.8.8"
  },
  "toc": {
   "base_numbering": 1,
   "nav_menu": {},
   "number_sections": true,
   "sideBar": true,
   "skip_h1_title": false,
   "title_cell": "Table of Contents",
   "title_sidebar": "Contents",
   "toc_cell": false,
   "toc_position": {
    "height": "calc(100% - 180px)",
    "left": "10px",
    "top": "150px",
    "width": "303px"
   },
   "toc_section_display": true,
   "toc_window_display": true
  }
 },
 "nbformat": 4,
 "nbformat_minor": 5
}
